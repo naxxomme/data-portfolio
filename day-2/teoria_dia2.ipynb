{
 "cells": [
  {
   "cell_type": "markdown",
   "id": "4dcee3eb-8aba-40d0-8253-0f7030f87eaf",
   "metadata": {},
   "source": [
    "# LISTAS - TUPLAS"
   ]
  },
  {
   "cell_type": "markdown",
   "id": "cb03316a-df9e-4570-9bb7-f3bdb0953329",
   "metadata": {},
   "source": [
    "### LISTAS:\n",
    "Las listas son elementos mutables, permitiendo modificar su contenido.<br>\n",
    "Puedes crear una lista desde una tupla utilizando el constructor `list()`, que convierte una tupla en una lista mutable."
   ]
  },
  {
   "cell_type": "code",
   "execution_count": 52,
   "id": "9f3cd64b-5936-4458-9f98-9b245258f837",
   "metadata": {},
   "outputs": [
    {
     "name": "stdout",
     "output_type": "stream",
     "text": [
      "True\n",
      "False\n"
     ]
    }
   ],
   "source": [
    "users = ['Dave' , 'John', 'Sara']\n",
    "data = ['Adrian', 25, True]\n",
    "emptylist = []\n",
    "\n",
    "print(\"Dave\" in users) # Verifica si el item está en la lista\n",
    "print (\"Dave\" in data)"
   ]
  },
  {
   "cell_type": "code",
   "execution_count": 59,
   "id": "2bafba40-a1ef-4af8-99de-18e2a9b0779a",
   "metadata": {},
   "outputs": [
    {
     "name": "stdout",
     "output_type": "stream",
     "text": [
      "[0, 1, 2, 3, 4, 5, 6, 7, 8, 9]\n",
      "[0, 2]\n"
     ]
    }
   ],
   "source": [
    "digits = list(range(10)) # Se pueden crear listas de esta forma también. Con range creas una lista hasta el número 9.\n",
    "print(digits)\n",
    "print(digits [0:4:2]) # INICIO - FIN - PASO   Imprime los dígitos desde el primer índice hasta el 4, saltando de dos en dos"
   ]
  },
  {
   "cell_type": "code",
   "execution_count": 60,
   "id": "d85eb084-e865-4d48-8ba7-bf7a1c4c0fef",
   "metadata": {},
   "outputs": [
    {
     "name": "stdout",
     "output_type": "stream",
     "text": [
      "[2, 4, 6, 8]\n"
     ]
    }
   ],
   "source": [
    "even_digits = [number for number in range(1,10) if number % 2 == 0] # También se puede crear una lista mediante list comprehensions.\n",
    "print(even_digits)"
   ]
  },
  {
   "cell_type": "code",
   "execution_count": 2,
   "id": "139e7a39-6728-4f01-9d18-5414e34eb7e6",
   "metadata": {},
   "outputs": [
    {
     "name": "stdout",
     "output_type": "stream",
     "text": [
      "Dave\n",
      "Sara\n"
     ]
    }
   ],
   "source": [
    "print(users[0]) # Imprimimos mediante el índice\n",
    "print(users[-1])"
   ]
  },
  {
   "cell_type": "code",
   "execution_count": 3,
   "id": "6b48e304-ece8-4eca-b3f3-56352ad6da69",
   "metadata": {},
   "outputs": [
    {
     "name": "stdout",
     "output_type": "stream",
     "text": [
      "2\n"
     ]
    }
   ],
   "source": [
    "print(users.index('Sara')) # Nos devuelve el índice del item"
   ]
  },
  {
   "cell_type": "code",
   "execution_count": 4,
   "id": "bfa60fc6-50ce-4512-9fe2-868383f49677",
   "metadata": {},
   "outputs": [
    {
     "name": "stdout",
     "output_type": "stream",
     "text": [
      "['Dave', 'John']\n",
      "['John', 'Sara']\n",
      "['Dave', 'John']\n"
     ]
    }
   ],
   "source": [
    "print(users[0:2]) # Nos devuelve los items desde la primera posición hasta la posición de índice 2 (sin ser incluido)\n",
    "print(users[1:]) # Nos devuelve todos los items desde la segunda posición hasta el final de la lista\n",
    "print(users[-3:-1]) # No incluye la posición -1"
   ]
  },
  {
   "cell_type": "code",
   "execution_count": 5,
   "id": "92832e1c-e116-44a6-b918-f01516fa8824",
   "metadata": {},
   "outputs": [
    {
     "name": "stdout",
     "output_type": "stream",
     "text": [
      "3\n",
      "3\n"
     ]
    }
   ],
   "source": [
    "print(len(users)) # Nos devuelve la cantidad de items que hay en la lista\n",
    "print(len(data))"
   ]
  },
  {
   "cell_type": "code",
   "execution_count": 6,
   "id": "1edc190b-cb6c-4910-bced-85a66439fdcc",
   "metadata": {},
   "outputs": [
    {
     "name": "stdout",
     "output_type": "stream",
     "text": [
      "['Dave', 'John', 'Sara', 'Elsa']\n"
     ]
    }
   ],
   "source": [
    "users.append('Elsa') # Añade Elsa a lista llamada Users\n",
    "print(users)"
   ]
  },
  {
   "cell_type": "code",
   "execution_count": 7,
   "id": "18176399-973a-47aa-9935-3231b25ab2c1",
   "metadata": {},
   "outputs": [
    {
     "name": "stdout",
     "output_type": "stream",
     "text": [
      "['Dave', 'John', 'Sara', 'Elsa', 'Jason']\n"
     ]
    }
   ],
   "source": [
    "users += ['Jason'] # Otra forma de añadir un item a la lista, pero tienes que asegurarte que es una lista, para que no añada letra por letra a la lista\n",
    "print(users)"
   ]
  },
  {
   "cell_type": "code",
   "execution_count": 8,
   "id": "89af9819-6a81-4984-b1d4-91f5053b14ea",
   "metadata": {},
   "outputs": [
    {
     "name": "stdout",
     "output_type": "stream",
     "text": [
      "['Dave', 'John', 'Sara', 'Elsa', 'Jason', 'Robert', 'Jimmy']\n"
     ]
    }
   ],
   "source": [
    "users.extend(['Robert', 'Jimmy']) # Otra forma de añadir un item a la lista\n",
    "print(users)"
   ]
  },
  {
   "cell_type": "code",
   "execution_count": 9,
   "id": "9729ff83-bd5e-4826-8172-2a8bd80f68ce",
   "metadata": {},
   "outputs": [
    {
     "name": "stdout",
     "output_type": "stream",
     "text": [
      "['Dave', 'John', 'Sara', 'Elsa', 'Jason', 'Robert', 'Jimmy']\n"
     ]
    }
   ],
   "source": [
    "users.extend(emptylist) # Sirve para extender una lista con otra\n",
    "print(users)"
   ]
  },
  {
   "cell_type": "code",
   "execution_count": 10,
   "id": "7ba22ff6-e9e7-4f97-947e-bd9d08e50b27",
   "metadata": {},
   "outputs": [
    {
     "name": "stdout",
     "output_type": "stream",
     "text": [
      "['Bob', 'Dave', 'John', 'Sara', 'Elsa', 'Jason', 'Robert', 'Jimmy']\n"
     ]
    }
   ],
   "source": [
    "users.insert(0, 'Bob') # Añade el item a la posición de índice escrita.\n",
    "print(users)"
   ]
  },
  {
   "cell_type": "code",
   "execution_count": 11,
   "id": "fa4ba092-e7ef-4097-a631-cd4ece5b89de",
   "metadata": {},
   "outputs": [
    {
     "name": "stdout",
     "output_type": "stream",
     "text": [
      "['Bob', 'Dave', 'Eddie', 'Alex', 'John', 'Sara', 'Elsa', 'Jason', 'Robert', 'Jimmy']\n"
     ]
    }
   ],
   "source": [
    "users[2:2] = ['Eddie', 'Alex'] # Si pones los dos números igual, te introduce los items a partir de ese número sin borrar ningún contenido de la lista previamente añadido.\n",
    "print(users)"
   ]
  },
  {
   "cell_type": "code",
   "execution_count": 12,
   "id": "71815229-db26-4a32-8fcf-4b4a899f884b",
   "metadata": {},
   "outputs": [
    {
     "name": "stdout",
     "output_type": "stream",
     "text": [
      "['Bob', 'Robert', 'JP', 'Alex', 'John', 'Sara', 'Elsa', 'Jason', 'Robert', 'Jimmy']\n"
     ]
    }
   ],
   "source": [
    "users[1:3] = ['Robert', 'JP'] # Si pones un rango de números, te introduce los nombres en ese rango, borrando todo el contenido de la lista previamente que este dentro de ese rango, sea mayor o no que los items introducidos.\n",
    "print(users)"
   ]
  },
  {
   "cell_type": "code",
   "execution_count": 13,
   "id": "7e871182-34dd-400f-a1e1-80e1ce0f7a04",
   "metadata": {},
   "outputs": [
    {
     "name": "stdout",
     "output_type": "stream",
     "text": [
      "['Robert', 'JP', 'Alex', 'John', 'Sara', 'Elsa', 'Jason', 'Robert', 'Jimmy']\n"
     ]
    }
   ],
   "source": [
    "users.remove('Bob')\n",
    "print(users)"
   ]
  },
  {
   "cell_type": "code",
   "execution_count": 14,
   "id": "a70d9d3f-23c9-485d-bce8-a748c04de1e8",
   "metadata": {},
   "outputs": [
    {
     "name": "stdout",
     "output_type": "stream",
     "text": [
      "Jimmy\n"
     ]
    }
   ],
   "source": [
    "print(users.pop()) # Elimina el último valor de la lista y lo devuelve"
   ]
  },
  {
   "cell_type": "code",
   "execution_count": 15,
   "id": "52f39b23-b909-4633-a3a4-aafd3dfaeac1",
   "metadata": {},
   "outputs": [
    {
     "name": "stdout",
     "output_type": "stream",
     "text": [
      "['JP', 'Alex', 'John', 'Sara', 'Elsa', 'Jason', 'Robert']\n"
     ]
    }
   ],
   "source": [
    "del users[0] # Eliminamos el item que está contenido en ese índice\n",
    "print(users)"
   ]
  },
  {
   "cell_type": "code",
   "execution_count": 16,
   "id": "f98a8fee-53ef-4e05-850a-0f14fcb1aae9",
   "metadata": {},
   "outputs": [
    {
     "name": "stdout",
     "output_type": "stream",
     "text": [
      "[]\n"
     ]
    }
   ],
   "source": [
    "#del data\n",
    "data.clear() # Si queremos borrar todo el contenido de una lista y que no nos de error al dejarla vacía, debemos usar este método\n",
    "print(data)"
   ]
  },
  {
   "cell_type": "code",
   "execution_count": 17,
   "id": "30524112-b8a3-4968-b904-40cd34b6548e",
   "metadata": {},
   "outputs": [
    {
     "name": "stdout",
     "output_type": "stream",
     "text": [
      "['Alex', 'Elsa', 'JP', 'Jason', 'John', 'Robert', 'Sara']\n"
     ]
    }
   ],
   "source": [
    "users.sort() # Si tenemos distintos tipos de variables nos dará error, ya que no puede comparar un string con un integer\n",
    "print(users)"
   ]
  },
  {
   "cell_type": "code",
   "execution_count": 18,
   "id": "998065b9-956d-4865-ae15-4b249a2b8efc",
   "metadata": {},
   "outputs": [
    {
     "name": "stdout",
     "output_type": "stream",
     "text": [
      "['Alex', 'JP', 'Jason', 'John', 'Robert', 'Sara', 'dave']\n"
     ]
    }
   ],
   "source": [
    "users[1:2] = ['dave'] # Si no lo pones en brackets te coloca cada letra y te la ordena. Al estar en minúsculas te lo coloca detrás de todos los ítems en mayúsculas\n",
    "users.sort()\n",
    "print(users)"
   ]
  },
  {
   "cell_type": "code",
   "execution_count": 19,
   "id": "896679d5-901b-4db1-839c-750deb0ced1f",
   "metadata": {},
   "outputs": [
    {
     "name": "stdout",
     "output_type": "stream",
     "text": [
      "['Alex', 'dave', 'Jason', 'John', 'JP', 'Robert', 'Sara']\n"
     ]
    }
   ],
   "source": [
    "users.sort(key=str.lower) # Con este método ignora las mayúsculas y minúsculas, y las ordena estrictamente por orden alfabético.\n",
    "print(users)"
   ]
  },
  {
   "cell_type": "code",
   "execution_count": 26,
   "id": "01059b9c-6195-4a6f-b276-549aa7be3230",
   "metadata": {},
   "outputs": [
    {
     "name": "stdout",
     "output_type": "stream",
     "text": [
      "[5, 1, 78, 42, 4]\n"
     ]
    }
   ],
   "source": [
    "nums=[4,42,78,1,5] # Te cambia el orden de los elementos introducidos, dándole la vuelta completamente.\n",
    "nums.reverse()\n",
    "print(nums)"
   ]
  },
  {
   "cell_type": "code",
   "execution_count": 23,
   "id": "bdf1ad2a-6331-413b-a692-87fb398e3f6b",
   "metadata": {},
   "outputs": [
    {
     "name": "stdout",
     "output_type": "stream",
     "text": [
      "[78, 42, 5, 4, 1]\n"
     ]
    }
   ],
   "source": [
    "nums.sort(reverse=True) # Este método te lo ordena de mayor a menor, modificando la lista\n",
    "print(nums)"
   ]
  },
  {
   "cell_type": "code",
   "execution_count": 28,
   "id": "8a015ac5-bf9b-4cde-9512-9236eb70d5f5",
   "metadata": {},
   "outputs": [
    {
     "name": "stdout",
     "output_type": "stream",
     "text": [
      "[78, 42, 5, 4, 1]\n",
      "[5, 1, 78, 42, 4]\n"
     ]
    }
   ],
   "source": [
    "print(sorted(nums, reverse=True)) # Es similar almétodo de arriba, solo que no modifica la lista\n",
    "print(nums)"
   ]
  },
  {
   "cell_type": "code",
   "execution_count": 32,
   "id": "047b1f0c-64db-480d-bb1a-20a5319b4a50",
   "metadata": {},
   "outputs": [
    {
     "name": "stdout",
     "output_type": "stream",
     "text": [
      "[5, 1, 78, 42, 4]\n",
      "[5, 1, 78, 42, 4]\n",
      "[1, 4, 5, 42, 78]\n",
      "[5, 1, 78, 42, 4]\n"
     ]
    }
   ],
   "source": [
    "numscopy = nums.copy() # Todos estos métodos sirven para hacer una copia de la lista\n",
    "mynums = list(nums)\n",
    "mycopy = nums[:]\n",
    "\n",
    "print(numscopy)\n",
    "print(mynums)\n",
    "mycopy.sort()\n",
    "print(mycopy)\n",
    "print(nums)"
   ]
  },
  {
   "cell_type": "code",
   "execution_count": 34,
   "id": "bc1a01e7-0249-4cc2-ae37-846228336544",
   "metadata": {},
   "outputs": [
    {
     "name": "stdout",
     "output_type": "stream",
     "text": [
      "<class 'list'>\n"
     ]
    }
   ],
   "source": [
    "print(type(nums)) # Con esto ves el tipo de dato que es, que es una lista"
   ]
  },
  {
   "cell_type": "code",
   "execution_count": 36,
   "id": "d6627db3-e9e8-4a84-bd0f-de766ae50fbf",
   "metadata": {},
   "outputs": [
    {
     "name": "stdout",
     "output_type": "stream",
     "text": [
      "[1, 'Neil', True]\n"
     ]
    }
   ],
   "source": [
    "mylist = list([1, \"Neil\", True])\n",
    "print(mylist)"
   ]
  },
  {
   "cell_type": "markdown",
   "id": "9e0c1016-3336-4dbf-b20a-90bc3e700743",
   "metadata": {},
   "source": [
    "### TUPLAS:\n",
    "Las tuplas son un elemento inmutable, lo que quiere decir que no pueden modificarse después de ser creadas.<br>\n",
    "Siempre se va a preferir utilizar tuplas cuando se necesita una secuencia inmutable, como una función que devuelva valores o datos constantes.<br>\n",
    "Suelen utilizarse en escenarios donde los datos deben permanecer inalterables."
   ]
  },
  {
   "cell_type": "code",
   "execution_count": 46,
   "id": "1e9044c8-93b4-4ee2-9b76-d5bd956217aa",
   "metadata": {},
   "outputs": [
    {
     "name": "stdout",
     "output_type": "stream",
     "text": [
      "('Dave', 42, True)\n",
      "<class 'tuple'>\n",
      "(1, 4, 2, 8, 2, 2)\n",
      "<class 'tuple'>\n"
     ]
    }
   ],
   "source": [
    "mytuple = tuple(('Dave', 42, True)) # Ambas formas sirve para crear tuplas. Las tuplas son inmutables.\n",
    "anothertuple = (1,4,2,8,2,2)\n",
    "\n",
    "print(mytuple)\n",
    "print(type(mytuple))\n",
    "print(anothertuple)\n",
    "print(type(anothertuple))"
   ]
  },
  {
   "cell_type": "code",
   "execution_count": 47,
   "id": "18d557d1-b0b7-414c-942b-79cafc73fdd5",
   "metadata": {},
   "outputs": [
    {
     "name": "stdout",
     "output_type": "stream",
     "text": [
      "('Dave', 42, True, 'Neil')\n"
     ]
    }
   ],
   "source": [
    "newlist = list(mytuple) # Para añadir un elemento a la tupla se puede hacer transformando la tupla en lista, usando append, y volviendo a transformar la lista en tupla.\n",
    "newlist.append('Neil')\n",
    "newtuple = tuple(newlist)\n",
    "print(newtuple)"
   ]
  },
  {
   "cell_type": "code",
   "execution_count": 48,
   "id": "81374738-131b-416e-a887-4dc7870e7be5",
   "metadata": {},
   "outputs": [
    {
     "name": "stdout",
     "output_type": "stream",
     "text": [
      "1\n",
      "4\n",
      "[2, 8, 2, 2]\n"
     ]
    }
   ],
   "source": [
    "(one, two, *hey) = anothertuple\n",
    "print(one)\n",
    "print(two)\n",
    "print(hey)"
   ]
  },
  {
   "cell_type": "code",
   "execution_count": 49,
   "id": "367efbdf-b5db-49d4-94f6-0f4613032e78",
   "metadata": {},
   "outputs": [
    {
     "name": "stdout",
     "output_type": "stream",
     "text": [
      "1\n",
      "[4, 2, 8, 2]\n",
      "2\n"
     ]
    }
   ],
   "source": [
    "(one, *two, hey) = anothertuple\n",
    "print(one)\n",
    "print(two)\n",
    "print(hey)"
   ]
  },
  {
   "cell_type": "code",
   "execution_count": 51,
   "id": "a3c2c82f-b60e-4c63-ada3-cfa1013c4c5e",
   "metadata": {},
   "outputs": [
    {
     "name": "stdout",
     "output_type": "stream",
     "text": [
      "3\n"
     ]
    }
   ],
   "source": [
    "print(anothertuple.count(2)) # Devuelve el número de veces que aparece un item en una tupla."
   ]
  },
  {
   "cell_type": "code",
   "execution_count": null,
   "id": "e7990d30-8314-4c58-965a-c7138e9246de",
   "metadata": {},
   "outputs": [],
   "source": []
  }
 ],
 "metadata": {
  "kernelspec": {
   "display_name": "Python [conda env:base] *",
   "language": "python",
   "name": "conda-base-py"
  },
  "language_info": {
   "codemirror_mode": {
    "name": "ipython",
    "version": 3
   },
   "file_extension": ".py",
   "mimetype": "text/x-python",
   "name": "python",
   "nbconvert_exporter": "python",
   "pygments_lexer": "ipython3",
   "version": "3.12.7"
  }
 },
 "nbformat": 4,
 "nbformat_minor": 5
}
