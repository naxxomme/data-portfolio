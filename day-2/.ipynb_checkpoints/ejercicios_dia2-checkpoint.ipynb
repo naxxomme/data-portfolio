{
 "cells": [
  {
   "cell_type": "markdown",
   "id": "ffa11425-d6c7-4185-b0fb-bdeae4b16db7",
   "metadata": {},
   "source": [
    "### EJERCICIOS:"
   ]
  },
  {
   "cell_type": "markdown",
   "id": "91e483ce-b4ec-43f3-bdc9-fc1fe28c7a89",
   "metadata": {},
   "source": [
    "#### EJERCICIO 1:\n",
    "Crea una lista con 5 números enteros.<br>\n",
    "- Accede al tercer elemento.\n",
    "- Cambia el último elemento por otro valor.\n",
    "- Añade un nuevo número al final.\n",
    "- Elimina el segundo elemento.\n",
    "- Muestra la lista final."
   ]
  },
  {
   "cell_type": "code",
   "execution_count": 23,
   "id": "da894332-2af9-47a8-ac1e-3b621902651d",
   "metadata": {},
   "outputs": [
    {
     "name": "stdout",
     "output_type": "stream",
     "text": [
      "[1, 2, 3, 4, 5]\n"
     ]
    }
   ],
   "source": [
    "lista=[1,2,3,4,5]\n",
    "print(lista)"
   ]
  },
  {
   "cell_type": "code",
   "execution_count": 24,
   "id": "7c0f73a9-5a7e-424c-b533-c5e6ffad7298",
   "metadata": {},
   "outputs": [
    {
     "name": "stdout",
     "output_type": "stream",
     "text": [
      "3\n"
     ]
    }
   ],
   "source": [
    "print(lista[2])"
   ]
  },
  {
   "cell_type": "code",
   "execution_count": 25,
   "id": "2fc67394-1231-4861-b3a2-a3176e70723a",
   "metadata": {},
   "outputs": [
    {
     "name": "stdout",
     "output_type": "stream",
     "text": [
      "[1, 2, 3, 4, 6]\n"
     ]
    }
   ],
   "source": [
    "lista [-1] = 6\n",
    "print(lista)"
   ]
  },
  {
   "cell_type": "code",
   "execution_count": 26,
   "id": "16884ac3-ca5c-4576-bfca-5ee5f7d2b84f",
   "metadata": {},
   "outputs": [
    {
     "name": "stdout",
     "output_type": "stream",
     "text": [
      "[1, 2, 3, 4, 6]\n"
     ]
    }
   ],
   "source": [
    "print(lista)"
   ]
  },
  {
   "cell_type": "code",
   "execution_count": 27,
   "id": "91ba7082-7b79-4836-a220-9eb76a63892a",
   "metadata": {},
   "outputs": [
    {
     "name": "stdout",
     "output_type": "stream",
     "text": [
      "[1, 2, 3, 4, 6, 5]\n"
     ]
    }
   ],
   "source": [
    "lista.append(5)\n",
    "print(lista)"
   ]
  },
  {
   "cell_type": "code",
   "execution_count": 28,
   "id": "841dbf70-4837-4a33-9a43-cc91cbd467ba",
   "metadata": {},
   "outputs": [
    {
     "name": "stdout",
     "output_type": "stream",
     "text": [
      "[1, 3, 4, 6, 5]\n"
     ]
    }
   ],
   "source": [
    "lista.pop(1)\n",
    "print(lista)"
   ]
  },
  {
   "cell_type": "code",
   "execution_count": 29,
   "id": "5004c9f2-56d7-4b7c-bfb9-829418521104",
   "metadata": {},
   "outputs": [
    {
     "name": "stdout",
     "output_type": "stream",
     "text": [
      "[1, 3, 4, 6, 5]\n"
     ]
    }
   ],
   "source": [
    "print(lista)"
   ]
  },
  {
   "cell_type": "markdown",
   "id": "b189c7f8-c18e-4684-8dfd-474bae7f00fe",
   "metadata": {},
   "source": [
    "#### EJERCICIO 2:\n",
    "Crea una tupla con los nombres de 4 países.<br>\n",
    "- Imprime el primer y el último país.\n",
    "- Cuenta cuántos elementos tiene."
   ]
  },
  {
   "cell_type": "code",
   "execution_count": 30,
   "id": "d0cc3a31-9a81-4f08-b88a-a9e535d9f143",
   "metadata": {},
   "outputs": [
    {
     "name": "stdout",
     "output_type": "stream",
     "text": [
      "('España', 'Noruega', 'Inglaterra', 'Países Bajos')\n"
     ]
    }
   ],
   "source": [
    "tupla = (\"España\", \"Noruega\", \"Inglaterra\", \"Países Bajos\")\n",
    "print(tupla)"
   ]
  },
  {
   "cell_type": "code",
   "execution_count": 31,
   "id": "336a1745-22c4-40b5-8c2b-a0604c2a44f3",
   "metadata": {},
   "outputs": [
    {
     "name": "stdout",
     "output_type": "stream",
     "text": [
      "España Países Bajos\n"
     ]
    }
   ],
   "source": [
    "print(tupla[0], tupla[-1])"
   ]
  },
  {
   "cell_type": "code",
   "execution_count": 32,
   "id": "0d168aa7-fba9-479b-886c-ce67cf0fbf89",
   "metadata": {},
   "outputs": [
    {
     "name": "stdout",
     "output_type": "stream",
     "text": [
      "4\n"
     ]
    }
   ],
   "source": [
    "print(len(tupla))"
   ]
  },
  {
   "cell_type": "markdown",
   "id": "87f7b9b9-0f2c-4e7e-9f33-db833bc93e9c",
   "metadata": {},
   "source": [
    "#### EJERCICIO 3:\n",
    "Crea una lista con números del 1 al 10.<br>\n",
    "- Haz slicing para obtener los cinco primeros.\n",
    "- Slicing de los últimos tres.\n",
    "- Slicing de los elementos de 3 al 7"
   ]
  },
  {
   "cell_type": "code",
   "execution_count": 33,
   "id": "e78261d0-1a2e-4d5b-b4f3-3c660e21857c",
   "metadata": {},
   "outputs": [
    {
     "name": "stdout",
     "output_type": "stream",
     "text": [
      "[1, 2, 3, 4, 5, 6, 7, 8, 9, 10]\n"
     ]
    }
   ],
   "source": [
    "lista2 = list(range(1,11))\n",
    "print(lista2)"
   ]
  },
  {
   "cell_type": "code",
   "execution_count": 34,
   "id": "b1c641ea-eeae-410a-a803-93be2dd4049c",
   "metadata": {},
   "outputs": [
    {
     "name": "stdout",
     "output_type": "stream",
     "text": [
      "[1, 2, 3, 4, 5]\n"
     ]
    }
   ],
   "source": [
    "print(lista2[0:5])"
   ]
  },
  {
   "cell_type": "code",
   "execution_count": 47,
   "id": "3cfcb15b-9d57-4df2-9eba-39991fa5744f",
   "metadata": {},
   "outputs": [
    {
     "name": "stdout",
     "output_type": "stream",
     "text": [
      "[8, 9, 10]\n"
     ]
    }
   ],
   "source": [
    "print(lista2[-3:])"
   ]
  },
  {
   "cell_type": "code",
   "execution_count": 40,
   "id": "76582599-1f5c-47a7-b7c8-0260b406954b",
   "metadata": {},
   "outputs": [
    {
     "name": "stdout",
     "output_type": "stream",
     "text": [
      "[3, 4, 5, 6, 7]\n"
     ]
    }
   ],
   "source": [
    "print(lista2[2:7])"
   ]
  },
  {
   "cell_type": "markdown",
   "id": "493b3faf-ec7d-4dcc-9e11-1deeb7448432",
   "metadata": {},
   "source": [
    "#### EJERCICIO 4:\n",
    "Ordena la lista `[5,2,9,1,5,6]`<br>\n",
    "- De forma ascendente.\n",
    "- De forma descendente"
   ]
  },
  {
   "cell_type": "code",
   "execution_count": 41,
   "id": "75149ad0-303b-4d83-acf5-5a57f672ba8a",
   "metadata": {},
   "outputs": [
    {
     "name": "stdout",
     "output_type": "stream",
     "text": [
      "[5, 2, 9, 1, 5, 6]\n"
     ]
    }
   ],
   "source": [
    "lista3 = [5,2,9,1,5,6]\n",
    "print(lista3)"
   ]
  },
  {
   "cell_type": "code",
   "execution_count": 43,
   "id": "265fe994-9e3a-4d80-ba22-67ac8a0f2fa1",
   "metadata": {},
   "outputs": [
    {
     "name": "stdout",
     "output_type": "stream",
     "text": [
      "[1, 2, 5, 5, 6, 9]\n"
     ]
    }
   ],
   "source": [
    "lista3.sort()\n",
    "print(lista3)"
   ]
  },
  {
   "cell_type": "code",
   "execution_count": 44,
   "id": "729160b7-a9a1-4e32-b5c2-64141d8d7ada",
   "metadata": {},
   "outputs": [
    {
     "name": "stdout",
     "output_type": "stream",
     "text": [
      "[9, 6, 5, 5, 2, 1]\n"
     ]
    }
   ],
   "source": [
    "lista3.sort(reverse=True)\n",
    "print(lista3)"
   ]
  },
  {
   "cell_type": "markdown",
   "id": "e1ca87cd-ef35-43c1-9665-e2b956ab50a0",
   "metadata": {},
   "source": [
    "#### EJERCICIO 5:\n",
    "Crea un programa que:<br>\n",
    "- Pida al usuario 3 palabras.\n",
    "- Las guarde en una lista.\n",
    "- Las ordene alfabéticamente\n",
    "- Las muestre en pantalla"
   ]
  },
  {
   "cell_type": "code",
   "execution_count": 45,
   "id": "89ccf2cb-3f52-42a5-8056-4e912a0209bd",
   "metadata": {},
   "outputs": [
    {
     "name": "stdin",
     "output_type": "stream",
     "text": [
      "Introduce la primera palabra:  hola\n",
      "Introduce la segunda palabra:  adios\n",
      "Introduce la tercera palabra:  hasta\n"
     ]
    },
    {
     "name": "stdout",
     "output_type": "stream",
     "text": [
      "['adios', 'hasta', 'hola']\n"
     ]
    }
   ],
   "source": [
    "pal1 = str(input(\"Introduce la primera palabra: \"))\n",
    "pal2 = str(input(\"Introduce la segunda palabra: \"))\n",
    "pal3 = str(input(\"Introduce la tercera palabra: \"))\n",
    "\n",
    "lista_user = [pal1, pal2, pal3]\n",
    "\n",
    "lista_user.sort(key=str.lower)\n",
    "\n",
    "print(lista_user)"
   ]
  },
  {
   "cell_type": "code",
   "execution_count": null,
   "id": "430a4482-14dd-4471-a875-e9b00afaac10",
   "metadata": {},
   "outputs": [],
   "source": []
  }
 ],
 "metadata": {
  "kernelspec": {
   "display_name": "Python [conda env:base] *",
   "language": "python",
   "name": "conda-base-py"
  },
  "language_info": {
   "codemirror_mode": {
    "name": "ipython",
    "version": 3
   },
   "file_extension": ".py",
   "mimetype": "text/x-python",
   "name": "python",
   "nbconvert_exporter": "python",
   "pygments_lexer": "ipython3",
   "version": "3.12.7"
  }
 },
 "nbformat": 4,
 "nbformat_minor": 5
}
