{
 "cells": [
  {
   "cell_type": "markdown",
   "id": "186ed087-4aa1-432c-a1ad-23566704eb8d",
   "metadata": {},
   "source": [
    "# BUCLE WHILE:"
   ]
  },
  {
   "cell_type": "markdown",
   "id": "3f339000-4ec6-4cc8-a511-5a33bc97a48d",
   "metadata": {},
   "source": [
    "Es un bucle que se repite mientras una condición sea verdadera.<br>\n",
    "Es utilizado cuando se tiene que iterar un número desconocido de veces, lo que es útil cuando el número de iteraciones dependen de una condición dada."
   ]
  },
  {
   "cell_type": "code",
   "execution_count": 12,
   "id": "d3ccdae5-2ff7-4c74-9a17-da94f0685b93",
   "metadata": {},
   "outputs": [
    {
     "name": "stdout",
     "output_type": "stream",
     "text": [
      "Contador:, 0\n",
      "Contador:, 1\n",
      "Contador:, 2\n",
      "Contador:, 3\n",
      "Contador:, 4\n"
     ]
    }
   ],
   "source": [
    "cont = 0\n",
    "while cont < 5:\n",
    "    print(f'Contador:, {cont}')\n",
    "    cont+=1"
   ]
  },
  {
   "cell_type": "code",
   "execution_count": 21,
   "id": "cc4b60e1-25b2-4d20-9920-30ab26e0c45c",
   "metadata": {},
   "outputs": [
    {
     "name": "stdout",
     "output_type": "stream",
     "text": [
      "5\n",
      "4\n",
      "3\n",
      "Fin de bucle\n"
     ]
    }
   ],
   "source": [
    "num = 6\n",
    "while num > 0:\n",
    "    num -= 1\n",
    "    if num == 2:\n",
    "        break\n",
    "    print(num)\n",
    "print(f'Fin de bucle')"
   ]
  },
  {
   "cell_type": "code",
   "execution_count": 20,
   "id": "c56d0d70-dec6-4e1d-97a6-04772a1f3d31",
   "metadata": {},
   "outputs": [
    {
     "name": "stdout",
     "output_type": "stream",
     "text": [
      "5\n",
      "4\n",
      "3\n",
      "1\n",
      "0\n",
      "Fin de bucle\n"
     ]
    }
   ],
   "source": [
    "num = 6\n",
    "while num > 0:\n",
    "    num -= 1\n",
    "    if num == 2:\n",
    "        continue\n",
    "    print(num)\n",
    "print(f'Fin de bucle')"
   ]
  },
  {
   "cell_type": "markdown",
   "id": "0d7c614f-9f04-4920-b3d5-62ab33877667",
   "metadata": {},
   "source": [
    "# BUCLE FOR:"
   ]
  },
  {
   "cell_type": "markdown",
   "id": "fa14a239-f809-4dd1-b15e-187c0d5df4c7",
   "metadata": {},
   "source": [
    "Es un bucle que itera sobre rangos o colecciones.<br>\n",
    "Es utilizado cuando se itera un número conocido de veces, lo que es común cuando estás procesando una colección de datos con un número específico de ítems.<br>\n",
    "Se pueden iterar tanto número, como cadenas o listas."
   ]
  },
  {
   "cell_type": "code",
   "execution_count": 15,
   "id": "ddca3fbb-ba95-42d7-9b54-e13bba31392a",
   "metadata": {},
   "outputs": [
    {
     "name": "stdout",
     "output_type": "stream",
     "text": [
      "i vale, 0\n",
      "i vale, 1\n",
      "i vale, 2\n",
      "i vale, 3\n",
      "i vale, 4\n"
     ]
    }
   ],
   "source": [
    "for i in range(5):\n",
    "    print(f'i vale, {i}')"
   ]
  },
  {
   "cell_type": "code",
   "execution_count": 19,
   "id": "c6999f30-af39-479d-b77f-f7585cac3ed0",
   "metadata": {},
   "outputs": [
    {
     "name": "stdout",
     "output_type": "stream",
     "text": [
      "P\n",
      "y\n",
      "t\n",
      "h\n",
      "o\n",
      "n\n"
     ]
    }
   ],
   "source": [
    "for letra in \"Python\":\n",
    "    print(letra)"
   ]
  },
  {
   "cell_type": "code",
   "execution_count": 17,
   "id": "7953edd7-0041-47c7-add2-48db0a776fbf",
   "metadata": {},
   "outputs": [
    {
     "name": "stdout",
     "output_type": "stream",
     "text": [
      "x = 1 and y = 4\n",
      "x = 3 and y = 6\n",
      "x = 7 and y = 3\n"
     ]
    }
   ],
   "source": [
    "points = [(1,4), (3,6), (7,3)]\n",
    "\n",
    "for x, y in points:\n",
    "    print(f'{x = } and {y = }')"
   ]
  },
  {
   "cell_type": "code",
   "execution_count": 22,
   "id": "54e33514-95bc-43b5-aa48-bc19de7f19db",
   "metadata": {},
   "outputs": [
    {
     "name": "stdout",
     "output_type": "stream",
     "text": [
      "Adrian\n",
      "25\n",
      "Data Analyst\n",
      "Spain\n"
     ]
    }
   ],
   "source": [
    "person = (\"Adrian\", 25, \"Data Analyst\", \"Spain\")\n",
    "\n",
    "for field in person:\n",
    "    print(field)"
   ]
  },
  {
   "cell_type": "code",
   "execution_count": 23,
   "id": "ae7f2141-dfca-4932-8b2a-e0495b5e8344",
   "metadata": {},
   "outputs": [],
   "source": [
    "students = {\n",
    "    \"Adrian\": 89.5,\n",
    "    \"Nerea\": 96.0,\n",
    "    \"Andrei\": 72.3,\n",
    "    \"Mario\": 85.2,\n",
    "    \"Rodrigo\": 86.9,\n",
    "}"
   ]
  },
  {
   "cell_type": "code",
   "execution_count": 24,
   "id": "04cd275f-c85e-436b-a7e0-6279f2923d21",
   "metadata": {},
   "outputs": [
    {
     "name": "stdout",
     "output_type": "stream",
     "text": [
      "Adrian\n",
      "Nerea\n",
      "Andrei\n",
      "Mario\n",
      "Rodrigo\n"
     ]
    }
   ],
   "source": [
    "for student in students:\n",
    "    print(student)"
   ]
  },
  {
   "cell_type": "code",
   "execution_count": 25,
   "id": "19e65c64-745f-4500-986a-8d1e79fd51e7",
   "metadata": {},
   "outputs": [
    {
     "name": "stdout",
     "output_type": "stream",
     "text": [
      "Adrian -> 89.5\n",
      "Nerea -> 96.0\n",
      "Andrei -> 72.3\n",
      "Mario -> 85.2\n",
      "Rodrigo -> 86.9\n"
     ]
    }
   ],
   "source": [
    "for student in students:\n",
    "    print(f'{student} -> {students[student]}')"
   ]
  },
  {
   "cell_type": "code",
   "execution_count": 27,
   "id": "aa1bd7f3-d477-46f1-ac15-1ea09ac270a4",
   "metadata": {},
   "outputs": [
    {
     "name": "stdout",
     "output_type": "stream",
     "text": [
      "Celtics\n",
      "Nuggets\n",
      "City Thunder\n",
      "Timberwolves\n",
      "Kings\n",
      "Mavericks\n"
     ]
    }
   ],
   "source": [
    "teams = {\n",
    "    \"Boston\": \"Celtics\",\n",
    "    \"Denver\": \"Nuggets\",\n",
    "    \"Oklahoma\": \"City Thunder\",\n",
    "    \"Minnesota\": \"Timberwolves\",\n",
    "    \"Sacramento\": \"Kings\",\n",
    "    \"Dallas\": \"Mavericks\",\n",
    "}\n",
    "\n",
    "for team in teams.values():\n",
    "    print(team)"
   ]
  },
  {
   "cell_type": "code",
   "execution_count": 28,
   "id": "811dc1fb-1976-4cd5-9542-f8b0938add48",
   "metadata": {},
   "outputs": [
    {
     "name": "stdout",
     "output_type": "stream",
     "text": [
      "Boston -> Celtics\n",
      "Denver -> Nuggets\n",
      "Oklahoma -> City Thunder\n",
      "Minnesota -> Timberwolves\n",
      "Sacramento -> Kings\n",
      "Dallas -> Mavericks\n"
     ]
    }
   ],
   "source": [
    "for place, team in teams.items():\n",
    "    print(f'{place} -> {team}')"
   ]
  },
  {
   "cell_type": "code",
   "execution_count": 33,
   "id": "1fdaf2fa-3551-4b6f-896f-7de8eb49f5f5",
   "metadata": {},
   "outputs": [
    {
     "name": "stdout",
     "output_type": "stream",
     "text": [
      "Processing 1...\n",
      "Processing 3...\n",
      "Processing 5...\n",
      "Target found 5!\n"
     ]
    }
   ],
   "source": [
    "numbers = [1,3,5,7,9]\n",
    "target = 5\n",
    "\n",
    "for number in numbers:\n",
    "    print(f'Processing {number}...')\n",
    "    if number == target:\n",
    "        print(f'Target found {target}!')\n",
    "        break"
   ]
  },
  {
   "cell_type": "code",
   "execution_count": 34,
   "id": "b6ed025d-d430-4619-af14-cc2e8f98e32e",
   "metadata": {},
   "outputs": [
    {
     "name": "stdout",
     "output_type": "stream",
     "text": [
      "number = 1\n",
      "number = 2\n",
      "2 es par!\n",
      "number = 3\n",
      "number = 4\n",
      "4 es par!\n",
      "number = 5\n",
      "number = 6\n",
      "6 es par!\n"
     ]
    }
   ],
   "source": [
    "numbers = [1,2,3,4,5,6]\n",
    "\n",
    "for number in numbers:\n",
    "    print(f'{number = }')\n",
    "    if number % 2 != 0:\n",
    "        continue\n",
    "    print(f'{number} es par!')"
   ]
  },
  {
   "cell_type": "code",
   "execution_count": 35,
   "id": "ccd4ae95-972a-40ad-9cb7-fc2f5e4eb1a9",
   "metadata": {},
   "outputs": [
    {
     "name": "stdout",
     "output_type": "stream",
     "text": [
      "Processing 1...\n",
      "Processing 3...\n",
      "Processing 5...\n",
      "Processing 7...\n",
      "Processing 9...\n",
      "Target not found 42\n"
     ]
    }
   ],
   "source": [
    "numbers = [1,3,5,7,9]\n",
    "target = 42\n",
    "\n",
    "for number in numbers:\n",
    "    print(f'Processing {number}...')\n",
    "    if number == target:\n",
    "        print(f'Target found {target}!')\n",
    "        break\n",
    "else:\n",
    "    print(f'Target not found {target}')"
   ]
  },
  {
   "cell_type": "code",
   "execution_count": 36,
   "id": "76829a89-b3bd-4750-b248-1508576ab90e",
   "metadata": {},
   "outputs": [
    {
     "name": "stdout",
     "output_type": "stream",
     "text": [
      "   1   2   3   4   5   6   7   8   9  10\n",
      "   2   4   6   8  10  12  14  16  18  20\n",
      "   3   6   9  12  15  18  21  24  27  30\n",
      "   4   8  12  16  20  24  28  32  36  40\n",
      "   5  10  15  20  25  30  35  40  45  50\n",
      "   6  12  18  24  30  36  42  48  54  60\n",
      "   7  14  21  28  35  42  49  56  63  70\n",
      "   8  16  24  32  40  48  56  64  72  80\n",
      "   9  18  27  36  45  54  63  72  81  90\n",
      "  10  20  30  40  50  60  70  80  90 100\n"
     ]
    }
   ],
   "source": [
    "for number in range (1,11):\n",
    "    for product in range (number, number*11, number):\n",
    "        print(f'{product:>4d}', end=\"\")\n",
    "    print()"
   ]
  },
  {
   "cell_type": "markdown",
   "id": "bb80e89a-17ea-497a-a660-d6bfdb58d06c",
   "metadata": {},
   "source": [
    "# FUNCIÓN RANGE():"
   ]
  },
  {
   "cell_type": "markdown",
   "id": "9a2feb64-52d4-41f9-aab1-e5033c1cb4cc",
   "metadata": {},
   "source": [
    "La función es range (start, stop, step)."
   ]
  },
  {
   "cell_type": "code",
   "execution_count": 40,
   "id": "d6382217-41b6-41b9-bc56-ea8a23904773",
   "metadata": {},
   "outputs": [
    {
     "name": "stdout",
     "output_type": "stream",
     "text": [
      "0\n",
      "1\n",
      "2\n",
      "3\n",
      "4\n"
     ]
    }
   ],
   "source": [
    "for i in range(5):\n",
    "    print(i)"
   ]
  },
  {
   "cell_type": "code",
   "execution_count": 41,
   "id": "f2007109-0e75-4121-b5b9-726e805d19f8",
   "metadata": {},
   "outputs": [
    {
     "name": "stdout",
     "output_type": "stream",
     "text": [
      "2\n",
      "3\n",
      "4\n",
      "5\n"
     ]
    }
   ],
   "source": [
    "for i in range(2,6):\n",
    "    print(i)"
   ]
  },
  {
   "cell_type": "code",
   "execution_count": 42,
   "id": "9735bef4-0242-4921-9756-a93f9e739454",
   "metadata": {},
   "outputs": [
    {
     "name": "stdout",
     "output_type": "stream",
     "text": [
      "10\n",
      "8\n",
      "6\n",
      "4\n",
      "2\n"
     ]
    }
   ],
   "source": [
    "for i in range(10,0,-2):\n",
    "    print(i)"
   ]
  }
 ],
 "metadata": {
  "kernelspec": {
   "display_name": "Python [conda env:base] *",
   "language": "python",
   "name": "conda-base-py"
  },
  "language_info": {
   "codemirror_mode": {
    "name": "ipython",
    "version": 3
   },
   "file_extension": ".py",
   "mimetype": "text/x-python",
   "name": "python",
   "nbconvert_exporter": "python",
   "pygments_lexer": "ipython3",
   "version": "3.12.7"
  }
 },
 "nbformat": 4,
 "nbformat_minor": 5
}
