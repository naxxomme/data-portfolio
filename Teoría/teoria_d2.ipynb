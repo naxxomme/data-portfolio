{
 "cells": [
  {
   "cell_type": "markdown",
   "id": "20fce880-00e8-486a-a903-4c13a7946b40",
   "metadata": {},
   "source": [
    "# VARIABLES:"
   ]
  },
  {
   "cell_type": "markdown",
   "id": "28e8a473-00d4-4449-af54-e0cd6021b752",
   "metadata": {},
   "source": [
    "- Las variables se crean automáticamente al asignarles un valor.\n",
    "- Python es de tipo dinámico, puede reasignar tipos a las variables.\n",
    "- También puedes realizar asignación múltiple."
   ]
  },
  {
   "cell_type": "code",
   "execution_count": 2,
   "id": "a19ece18-fe05-4bf8-b075-581dcca04d3c",
   "metadata": {},
   "outputs": [
    {
     "data": {
      "text/plain": [
       "42"
      ]
     },
     "execution_count": 2,
     "metadata": {},
     "output_type": "execute_result"
    }
   ],
   "source": [
    "x = 42\n",
    "x"
   ]
  },
  {
   "cell_type": "code",
   "execution_count": 3,
   "id": "b533711b-b163-473b-a9e5-98d4fe17dde3",
   "metadata": {},
   "outputs": [
    {
     "data": {
      "text/plain": [
       "'Hello, World!'"
      ]
     },
     "execution_count": 3,
     "metadata": {},
     "output_type": "execute_result"
    }
   ],
   "source": [
    "x = \"Hello, World!\"\n",
    "x"
   ]
  },
  {
   "cell_type": "code",
   "execution_count": 5,
   "id": "88a86f45-197b-4f02-ab6e-5610b0f31eab",
   "metadata": {},
   "outputs": [
    {
     "data": {
      "text/plain": [
       "('Adrian', 25)"
      ]
     },
     "execution_count": 5,
     "metadata": {},
     "output_type": "execute_result"
    }
   ],
   "source": [
    "name, age = \"Adrian\", 25\n",
    "name, age"
   ]
  },
  {
   "cell_type": "markdown",
   "id": "8c5ead52-258d-470d-9af7-2cb16d00031f",
   "metadata": {},
   "source": [
    "# COMENTARIOS:"
   ]
  },
  {
   "cell_type": "markdown",
   "id": "3d5d4eed-9b5f-4c7c-aeee-883385ee4bf5",
   "metadata": {},
   "source": [
    "#### DE UNA LÍNEA:"
   ]
  },
  {
   "cell_type": "code",
   "execution_count": 6,
   "id": "c10c6697-dc5c-4bc2-9f61-c8a6da197c9a",
   "metadata": {},
   "outputs": [],
   "source": [
    "# Esto es un comentario de una línea"
   ]
  },
  {
   "cell_type": "markdown",
   "id": "475fb314-4877-4c3e-9a2a-c84cbf036691",
   "metadata": {},
   "source": [
    "#### DE VARIAS LÍNEAS:"
   ]
  },
  {
   "cell_type": "code",
   "execution_count": 9,
   "id": "b0bff2d7-6323-42f0-82b8-5a68df11917f",
   "metadata": {},
   "outputs": [],
   "source": [
    "# Esto no es realmente un comentario, pero puede servir\n",
    "# para documentar varias líneas."
   ]
  },
  {
   "cell_type": "markdown",
   "id": "cc9d805f-94d3-43ef-81a9-6c15458114bf",
   "metadata": {},
   "source": [
    "# INPUT:"
   ]
  },
  {
   "cell_type": "code",
   "execution_count": 11,
   "id": "2dcb599c-b4e8-4056-8b77-bb736b10a8d2",
   "metadata": {},
   "outputs": [
    {
     "name": "stdin",
     "output_type": "stream",
     "text": [
      "¿Cómo te llamas? Adrian\n"
     ]
    },
    {
     "data": {
      "text/plain": [
       "'Hola, Adrian.'"
      ]
     },
     "execution_count": 11,
     "metadata": {},
     "output_type": "execute_result"
    }
   ],
   "source": [
    "name = input(\"¿Cómo te llamas?\")\n",
    "f'Hola, {name}.'"
   ]
  },
  {
   "cell_type": "code",
   "execution_count": null,
   "id": "cf2ebe5d-fb3b-4103-82de-5fe99ca5a31d",
   "metadata": {},
   "outputs": [],
   "source": []
  }
 ],
 "metadata": {
  "kernelspec": {
   "display_name": "Python [conda env:base] *",
   "language": "python",
   "name": "conda-base-py"
  },
  "language_info": {
   "codemirror_mode": {
    "name": "ipython",
    "version": 3
   },
   "file_extension": ".py",
   "mimetype": "text/x-python",
   "name": "python",
   "nbconvert_exporter": "python",
   "pygments_lexer": "ipython3",
   "version": "3.12.7"
  }
 },
 "nbformat": 4,
 "nbformat_minor": 5
}
