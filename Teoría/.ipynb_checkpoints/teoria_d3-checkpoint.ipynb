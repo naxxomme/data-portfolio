{
 "cells": [
  {
   "cell_type": "markdown",
   "id": "37cae238-c6f2-4b7a-8131-57b5cc811924",
   "metadata": {},
   "source": [
    "# CONDICIONALES:"
   ]
  },
  {
   "cell_type": "markdown",
   "id": "a35c39d7-04ea-4e65-bb19-1d4467960f63",
   "metadata": {},
   "source": [
    "`If ... elif ... else`\n",
    "- If: establece una condición para que se ejecute el código que está debajo del if (tiene que estar identado)\n",
    "- Elif: para chequear más condiciones después de un if.\n",
    "- Else: agrupa las condiciones que no se han cumplido; no puede llevar condiciones nuevas."
   ]
  },
  {
   "cell_type": "code",
   "execution_count": 3,
   "id": "a5858316-ae7d-4cbe-8c30-df564b5849a8",
   "metadata": {},
   "outputs": [
    {
     "name": "stdout",
     "output_type": "stream",
     "text": [
      "Eres mayor de edad.\n"
     ]
    }
   ],
   "source": [
    "age = 20\n",
    "if age >= 18:\n",
    "    print(f'Eres mayor de edad.')"
   ]
  },
  {
   "cell_type": "code",
   "execution_count": 4,
   "id": "ce10a419-39ee-45fd-8c0c-1bfcc82a46fe",
   "metadata": {},
   "outputs": [
    {
     "name": "stdout",
     "output_type": "stream",
     "text": [
      "Aprobado\n"
     ]
    }
   ],
   "source": [
    "mark = 7\n",
    "if mark >= 9:\n",
    "    print(f'Excelente.')\n",
    "elif mark >= 6:\n",
    "    print(f'Aprobado')\n",
    "else:\n",
    "    print(f'Suspenso')"
   ]
  },
  {
   "cell_type": "code",
   "execution_count": null,
   "id": "6be30564-ac5f-4405-844f-f42574ff98cd",
   "metadata": {},
   "outputs": [],
   "source": []
  }
 ],
 "metadata": {
  "kernelspec": {
   "display_name": "Python [conda env:base] *",
   "language": "python",
   "name": "conda-base-py"
  },
  "language_info": {
   "codemirror_mode": {
    "name": "ipython",
    "version": 3
   },
   "file_extension": ".py",
   "mimetype": "text/x-python",
   "name": "python",
   "nbconvert_exporter": "python",
   "pygments_lexer": "ipython3",
   "version": "3.12.7"
  }
 },
 "nbformat": 4,
 "nbformat_minor": 5
}
