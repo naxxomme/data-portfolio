{
 "cells": [
  {
   "cell_type": "markdown",
   "id": "75ae7879-982e-47fb-b5c3-0bf85be114ed",
   "metadata": {},
   "source": [
    "# EJERCICIOS DÍA 3:"
   ]
  },
  {
   "cell_type": "markdown",
   "id": "1e46ba23-4813-4200-80ad-1418c4e2343c",
   "metadata": {},
   "source": [
    "1. Crea un programa que pida al usuario su edad y diga si puede conducir."
   ]
  },
  {
   "cell_type": "code",
   "execution_count": 31,
   "id": "f6d7d4d7-942f-49cf-a726-6ea587480275",
   "metadata": {},
   "outputs": [
    {
     "name": "stdin",
     "output_type": "stream",
     "text": [
      "¿Cuál es tu edad? 17\n"
     ]
    },
    {
     "name": "stdout",
     "output_type": "stream",
     "text": [
      "No puedes conducir\n"
     ]
    }
   ],
   "source": [
    "age = int(input(\"¿Cuál es tu edad?\"))\n",
    "\n",
    "if age >= 18:\n",
    "    \n",
    "    print(f'Puedes conducir.')\n",
    "else:\n",
    "    print(f'No puedes conducir')"
   ]
  },
  {
   "cell_type": "markdown",
   "id": "08f8b7f5-f815-47ea-8975-80ea1a75816d",
   "metadata": {},
   "source": [
    "2. Pregunta al usuario su nota. Devuelve:\n",
    "   - Sobresaliente si es 9 o más.\n",
    "   - Aprobado si es 5 o más.\n",
    "   - Suspenso si es menor de 5."
   ]
  },
  {
   "cell_type": "code",
   "execution_count": 29,
   "id": "760cbfd3-f357-4dc5-a4f0-64826d50c906",
   "metadata": {},
   "outputs": [
    {
     "name": "stdin",
     "output_type": "stream",
     "text": [
      "¿Qué nota has sacado? 5.6\n"
     ]
    },
    {
     "name": "stdout",
     "output_type": "stream",
     "text": [
      "Aprobado.\n"
     ]
    }
   ],
   "source": [
    "mark = float(input(\"¿Qué nota has sacado?\"))\n",
    "\n",
    "if mark >= 9:\n",
    "    print(f'Sobresaliente.')\n",
    "elif mark >= 5:\n",
    "    print(f'Aprobado.')\n",
    "else:\n",
    "    print(f'Suspenso.')"
   ]
  },
  {
   "cell_type": "markdown",
   "id": "509e0af2-906e-4fa1-967e-f00c0423ad5a",
   "metadata": {},
   "source": [
    "3. Crea un programa que reciba dos números y diga cuál es el mayor, o si son iguales."
   ]
  },
  {
   "cell_type": "code",
   "execution_count": 25,
   "id": "fcf8ac84-d156-4dc5-9f65-2f69fd475e0e",
   "metadata": {},
   "outputs": [
    {
     "name": "stdin",
     "output_type": "stream",
     "text": [
      "Escribe un número: 4.5\n",
      "Escribe otro número: 4.6\n"
     ]
    },
    {
     "name": "stdout",
     "output_type": "stream",
     "text": [
      "El segundo número es mayor.\n"
     ]
    }
   ],
   "source": [
    "num1 = float(input(\"Escribe un número:\"))\n",
    "num2 = float(input(\"Escribe otro número:\"))\n",
    "\n",
    "#num1, num2 = float(num1), float(num2)\n",
    "\n",
    "if num1 > num2:\n",
    "    print(f'El primer número es mayor.')\n",
    "elif num1 < num2:\n",
    "    print(f'El segundo número es mayor.')\n",
    "else:\n",
    "    print(f'Ambos números son iguales.')"
   ]
  },
  {
   "cell_type": "markdown",
   "id": "7305c7f3-8253-4c12-af69-59d84d8a9f7e",
   "metadata": {},
   "source": [
    "4. Crea un sistema que, dado el país y edad del usuario, diga si puede votar en su país."
   ]
  },
  {
   "cell_type": "code",
   "execution_count": 33,
   "id": "b8f79206-911c-4457-aa34-de8ab4b0fef0",
   "metadata": {},
   "outputs": [
    {
     "name": "stdin",
     "output_type": "stream",
     "text": [
      "Introduce tu país:  España\n",
      "Introduce tu edad:  17\n"
     ]
    },
    {
     "name": "stdout",
     "output_type": "stream",
     "text": [
      "No puedes votar todavía en España.\n"
     ]
    }
   ],
   "source": [
    "pais = input(\"Introduce tu país: \").lower()\n",
    "edad = int(input(\"Introduce tu edad: \"))\n",
    "\n",
    "if pais == \"españa\" and edad >= 18:\n",
    "    print(\"Puedes votar en España.\")\n",
    "elif pais == \"eeuu\" and edad >= 18:\n",
    "    print(\"Puedes votar en Estados Unidos.\")\n",
    "elif pais == \"brasil\" and edad >= 16:\n",
    "    print(\"Puedes votar en Brasil.\")\n",
    "elif pais == \"argentina\" and edad >= 16:\n",
    "    print(\"Puedes votar en Argentina.\")\n",
    "elif pais == \"austria\" and edad >= 16:\n",
    "    print(\"Puedes votar en Austria.\")\n",
    "elif pais == \"corea del sur\" and edad >= 18:\n",
    "    print(\"Puedes votar en Corea del Sur.\")\n",
    "elif pais == \"japón\" and edad >= 18:\n",
    "    print(\"Puedes votar en Japón.\")\n",
    "elif pais in [\"españa\", \"eeuu\", \"brasil\", \"argentina\", \"austria\", \"corea del sur\", \"japón\"]:\n",
    "    print(\"No puedes votar todavía en\", pais.capitalize() + \".\")\n",
    "else:\n",
    "    print(\"No tengo información sobre la edad mínima para votar en\", pais.capitalize() + \".\")"
   ]
  },
  {
   "cell_type": "markdown",
   "id": "09adf5a2-e575-4a93-8e19-25b775a2dc4e",
   "metadata": {},
   "source": [
    "5. Escribe un programa que reciba un nombre de usuario y una contraseña. Si ambos coinciden con valores definidos, muestra \"Acceso concedido\", si no, \"Acceso denegado\"."
   ]
  },
  {
   "cell_type": "code",
   "execution_count": 35,
   "id": "3e06c709-b6e5-43b0-911d-593a281e9dcb",
   "metadata": {},
   "outputs": [
    {
     "name": "stdin",
     "output_type": "stream",
     "text": [
      "Introduce tu nombre de usuario:  admiiin\n",
      "Introduce tu contraseña:  1234\n"
     ]
    },
    {
     "name": "stdout",
     "output_type": "stream",
     "text": [
      "Acceso denegado\n"
     ]
    }
   ],
   "source": [
    "user_correct = \"admin\"\n",
    "password_correct = \"1234\"\n",
    "\n",
    "user = input(\"Introduce tu nombre de usuario: \")\n",
    "password = input(\"Introduce tu contraseña: \")\n",
    "\n",
    "if user == user_correct and password == password_correct:\n",
    "    print(\"Acceso concedido\")\n",
    "else:\n",
    "    print(\"Acceso denegado\")"
   ]
  },
  {
   "cell_type": "code",
   "execution_count": null,
   "id": "6752be50-a0b1-432c-8a53-b2eee172f31a",
   "metadata": {},
   "outputs": [],
   "source": []
  }
 ],
 "metadata": {
  "kernelspec": {
   "display_name": "Python [conda env:base] *",
   "language": "python",
   "name": "conda-base-py"
  },
  "language_info": {
   "codemirror_mode": {
    "name": "ipython",
    "version": 3
   },
   "file_extension": ".py",
   "mimetype": "text/x-python",
   "name": "python",
   "nbconvert_exporter": "python",
   "pygments_lexer": "ipython3",
   "version": "3.12.7"
  }
 },
 "nbformat": 4,
 "nbformat_minor": 5
}
