{
 "cells": [
  {
   "cell_type": "markdown",
   "id": "54ac9a14-ed1b-4828-ae25-ac6ecf6a45de",
   "metadata": {},
   "source": [
    "# EJERCICIOS DÍA 4:"
   ]
  },
  {
   "cell_type": "markdown",
   "id": "9ff29936-0caf-46ee-829d-18448717f9f0",
   "metadata": {},
   "source": [
    "1. Usa un bucle while para contar del 1 al 10."
   ]
  },
  {
   "cell_type": "code",
   "execution_count": 1,
   "id": "6af09ab7-e776-47af-aac0-c73afbb2d3cf",
   "metadata": {},
   "outputs": [
    {
     "name": "stdout",
     "output_type": "stream",
     "text": [
      "1\n",
      "2\n",
      "3\n",
      "4\n",
      "5\n",
      "6\n",
      "7\n",
      "8\n",
      "9\n",
      "10\n"
     ]
    }
   ],
   "source": [
    "num = 1\n",
    "while num < 11:\n",
    "    print(num)\n",
    "    num+=1"
   ]
  },
  {
   "cell_type": "markdown",
   "id": "c5e44485-3560-4501-8e1b-6e754cccc209",
   "metadata": {},
   "source": [
    "2. Usa un bucle for y range() para imprimir los múltiplos de 3 del 3 al 30."
   ]
  },
  {
   "cell_type": "code",
   "execution_count": 5,
   "id": "50e954b3-ba88-4783-a17c-17aff4f1dffc",
   "metadata": {},
   "outputs": [
    {
     "name": "stdout",
     "output_type": "stream",
     "text": [
      "3\n",
      "6\n",
      "9\n",
      "12\n",
      "15\n",
      "18\n",
      "21\n",
      "24\n",
      "27\n",
      "30\n"
     ]
    }
   ],
   "source": [
    "for i in range (3,31):\n",
    "    if i % 3 == 0:\n",
    "        print(i)"
   ]
  },
  {
   "cell_type": "markdown",
   "id": "560b4a19-ea5e-40f4-8bad-bb147cb63910",
   "metadata": {},
   "source": [
    "3. Crea un bucle que reciba input() del usuario hasta que escriba \"salir\"."
   ]
  },
  {
   "cell_type": "code",
   "execution_count": 11,
   "id": "1b94a81c-f595-4db2-928a-b7f078b0ea9c",
   "metadata": {},
   "outputs": [
    {
     "name": "stdin",
     "output_type": "stream",
     "text": [
      "Escribe una palabra: SALIR\n"
     ]
    }
   ],
   "source": [
    "palabra = input(\"Escribe una palabra:\").lower()\n",
    "while palabra != \"salir\":\n",
    "    palabra = input(\"Escribe una palabra:\")"
   ]
  },
  {
   "cell_type": "markdown",
   "id": "65e45eea-8c4e-41a0-9204-75fe06817268",
   "metadata": {},
   "source": [
    "4. Itera sobre las letras de una palabra e imprime solo las vocales."
   ]
  },
  {
   "cell_type": "code",
   "execution_count": 12,
   "id": "2dbfaee4-726c-4d58-b557-85065d9f9c0e",
   "metadata": {},
   "outputs": [
    {
     "name": "stdin",
     "output_type": "stream",
     "text": [
      "Introduce una palabra:  hola\n"
     ]
    },
    {
     "name": "stdout",
     "output_type": "stream",
     "text": [
      "o\n",
      "a\n"
     ]
    }
   ],
   "source": [
    "palabra = input(\"Introduce una palabra: \")\n",
    "\n",
    "for letra in palabra:\n",
    "    if letra.lower() in \"aeiou\":\n",
    "        print(letra)"
   ]
  },
  {
   "cell_type": "markdown",
   "id": "b1077fcb-3ea1-4f62-a045-dbbb0dbc3d68",
   "metadata": {},
   "source": [
    "5. Recorre los números del 1 al 10 con un for, pero usa continue para saltar los pares."
   ]
  },
  {
   "cell_type": "code",
   "execution_count": 13,
   "id": "a9b8b3c8-a53c-4815-84fd-17cadad964ba",
   "metadata": {},
   "outputs": [
    {
     "name": "stdout",
     "output_type": "stream",
     "text": [
      "1\n",
      "3\n",
      "5\n",
      "7\n",
      "9\n"
     ]
    }
   ],
   "source": [
    "for i in range(1,11):\n",
    "    if i % 2 != 0:\n",
    "        print(i)\n",
    "    continue"
   ]
  },
  {
   "cell_type": "markdown",
   "id": "c57144ae-bef7-4efd-a3ed-a74ffc8b48bc",
   "metadata": {},
   "source": [
    "6. Escribe un bucle que sume todos los números del 1 al 100."
   ]
  },
  {
   "cell_type": "code",
   "execution_count": 16,
   "id": "a3568e65-3a2e-4732-94db-12f9552035ee",
   "metadata": {},
   "outputs": [
    {
     "name": "stdout",
     "output_type": "stream",
     "text": [
      "La suma del 1 al 100 es 5050\n"
     ]
    }
   ],
   "source": [
    "suma = 0\n",
    "for i in range(1,101):\n",
    "    suma += i\n",
    "\n",
    "print(f'La suma del 1 al 100 es {suma}')"
   ]
  },
  {
   "cell_type": "markdown",
   "id": "7b20001a-68c1-4b60-bee9-2fda8fca9bae",
   "metadata": {},
   "source": [
    "7. Crea un pequeño sistema que pida al usuario una contraseña. Si no acierta en 3 intentos. termina el programa con un mensaje de bloqueo."
   ]
  },
  {
   "cell_type": "code",
   "execution_count": 18,
   "id": "c0277619-abf6-4ff8-999a-b7778a95c18f",
   "metadata": {},
   "outputs": [
    {
     "name": "stdin",
     "output_type": "stream",
     "text": [
      "Introduce la contraseña:  admin\n"
     ]
    },
    {
     "name": "stdout",
     "output_type": "stream",
     "text": [
      "Acceso concedido.\n"
     ]
    }
   ],
   "source": [
    "password = \"admin\"\n",
    "intentos = 0\n",
    "max_intentos = 3\n",
    "\n",
    "while intentos < max_intentos:\n",
    "    entrada = input(\"Introduce la contraseña: \")\n",
    "    if entrada == password:\n",
    "        print(f'Acceso concedido.')\n",
    "        break\n",
    "    else:\n",
    "        intentos+=1\n",
    "        print(f'Contraseña incorrecta. Intento {intentos} de {max_intentos}')\n",
    "if intentos == max_intentos:\n",
    "    print(f'El sistema ha sido bloqueado por exceder el número máximo de intentos.')"
   ]
  },
  {
   "cell_type": "code",
   "execution_count": null,
   "id": "a0416d73-0ecd-42e7-9937-3c88ff092e3b",
   "metadata": {},
   "outputs": [],
   "source": []
  }
 ],
 "metadata": {
  "kernelspec": {
   "display_name": "Python [conda env:base] *",
   "language": "python",
   "name": "conda-base-py"
  },
  "language_info": {
   "codemirror_mode": {
    "name": "ipython",
    "version": 3
   },
   "file_extension": ".py",
   "mimetype": "text/x-python",
   "name": "python",
   "nbconvert_exporter": "python",
   "pygments_lexer": "ipython3",
   "version": "3.12.7"
  }
 },
 "nbformat": 4,
 "nbformat_minor": 5
}
