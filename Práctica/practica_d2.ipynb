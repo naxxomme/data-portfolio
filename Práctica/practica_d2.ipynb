{
 "cells": [
  {
   "cell_type": "markdown",
   "id": "94e8f52b-fd4b-4bd8-b8a5-0a16d006f8d5",
   "metadata": {},
   "source": [
    "# EJERCICIOS DÍA 2:"
   ]
  },
  {
   "cell_type": "markdown",
   "id": "575954cf-5b9a-4135-a4c1-c02e569d3d6e",
   "metadata": {},
   "source": [
    "1. Declara una variable de tu ciudad natal y otra con tu país. Imprímelas en una frase."
   ]
  },
  {
   "cell_type": "code",
   "execution_count": 2,
   "id": "3bbe1248-12e1-4283-a55d-5c4dc6012cfa",
   "metadata": {},
   "outputs": [
    {
     "data": {
      "text/plain": [
       "'Mi ciudad natal es Madrid que pertenece a España.'"
      ]
     },
     "execution_count": 2,
     "metadata": {},
     "output_type": "execute_result"
    }
   ],
   "source": [
    "city = \"Madrid\"\n",
    "country = \"España\"\n",
    "\n",
    "f'Mi ciudad natal es {city} que pertenece a {country}.'"
   ]
  },
  {
   "cell_type": "markdown",
   "id": "c3718bfd-c6ec-49b0-9d6b-8dacb4bba225",
   "metadata": {},
   "source": [
    "2. Crea tres variables (nombre, edad, color_favorito) en una sola línea y muéstralas con print."
   ]
  },
  {
   "cell_type": "code",
   "execution_count": 4,
   "id": "5b5e9222-830a-4236-98b9-167add59c32d",
   "metadata": {},
   "outputs": [
    {
     "data": {
      "text/plain": [
       "'Me llamo Adrian, tengo 25 años y mi color favorito es el verde.'"
      ]
     },
     "execution_count": 4,
     "metadata": {},
     "output_type": "execute_result"
    }
   ],
   "source": [
    "name, age, color = \"Adrian\", 25, \"verde\"\n",
    "\n",
    "f'Me llamo {name}, tengo {age} años y mi color favorito es el {color}.'"
   ]
  },
  {
   "cell_type": "markdown",
   "id": "b5a7624d-9d38-41c9-94f6-e72e0116eddb",
   "metadata": {},
   "source": [
    "3. Escribe un comentario de una sola línea y otro de varias líneas explicando el próposito de tu código."
   ]
  },
  {
   "cell_type": "code",
   "execution_count": 5,
   "id": "e4ee74cf-1f7c-4303-a045-ef37ab034489",
   "metadata": {},
   "outputs": [],
   "source": [
    "# Este es un comentario de una línea para el ejercicio\n",
    "\n",
    "# Esto\n",
    "# es\n",
    "# un\n",
    "# comentario\n",
    "# de\n",
    "# varias\n",
    "# líneas"
   ]
  },
  {
   "cell_type": "markdown",
   "id": "74b0394a-2521-4834-bd5c-d2292f0aa4b2",
   "metadata": {},
   "source": [
    "4. Usa input() para pedirle al usuario su comida favorita y su edad. Luego imprímelo."
   ]
  },
  {
   "cell_type": "code",
   "execution_count": 6,
   "id": "1e6c45c1-6b13-4930-a64d-334f1b19a4c8",
   "metadata": {},
   "outputs": [
    {
     "name": "stdin",
     "output_type": "stream",
     "text": [
      "¿Cuál es tu comida favorita? carne\n",
      "¿Cuál es tu edad? 25\n"
     ]
    },
    {
     "data": {
      "text/plain": [
       "'Tienes 25 años y te encanta comer carne.'"
      ]
     },
     "execution_count": 6,
     "metadata": {},
     "output_type": "execute_result"
    }
   ],
   "source": [
    "food = input(\"¿Cuál es tu comida favorita?\")\n",
    "age = input(\"¿Cuál es tu edad?\")\n",
    "\n",
    "f'Tienes {age} años y te encanta comer {food}.'"
   ]
  },
  {
   "cell_type": "markdown",
   "id": "fcdbd1aa-0e77-4576-943f-1c67aebe2c3a",
   "metadata": {},
   "source": [
    "5. Declara una variable con un número. Reasígnale un texto y luego imprímelo."
   ]
  },
  {
   "cell_type": "code",
   "execution_count": 7,
   "id": "0cb52ede-59e7-45e6-8b03-1f0795c5325e",
   "metadata": {},
   "outputs": [
    {
     "data": {
      "text/plain": [
       "'Hola'"
      ]
     },
     "execution_count": 7,
     "metadata": {},
     "output_type": "execute_result"
    }
   ],
   "source": [
    "x = 25\n",
    "x = \"Hola\"\n",
    "f'{x}' "
   ]
  },
  {
   "cell_type": "code",
   "execution_count": 8,
   "id": "7564a385-c5f7-475e-958f-430fd573caaa",
   "metadata": {},
   "outputs": [],
   "source": [
    "# Solo imprime la última asignación de la variable."
   ]
  },
  {
   "cell_type": "code",
   "execution_count": null,
   "id": "8b026e9c-5828-4c30-827e-e670814feebc",
   "metadata": {},
   "outputs": [],
   "source": []
  }
 ],
 "metadata": {
  "kernelspec": {
   "display_name": "Python [conda env:base] *",
   "language": "python",
   "name": "conda-base-py"
  },
  "language_info": {
   "codemirror_mode": {
    "name": "ipython",
    "version": 3
   },
   "file_extension": ".py",
   "mimetype": "text/x-python",
   "name": "python",
   "nbconvert_exporter": "python",
   "pygments_lexer": "ipython3",
   "version": "3.12.7"
  }
 },
 "nbformat": 4,
 "nbformat_minor": 5
}
