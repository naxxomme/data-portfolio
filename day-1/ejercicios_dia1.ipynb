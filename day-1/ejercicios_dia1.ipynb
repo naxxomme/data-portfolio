{
 "cells": [
  {
   "cell_type": "markdown",
   "id": "25396424-af20-471b-876b-f9b936c01dc1",
   "metadata": {},
   "source": [
    "### EJERCICIOS:"
   ]
  },
  {
   "cell_type": "markdown",
   "id": "cb4d5063-e772-4527-8694-74e15c8aa843",
   "metadata": {},
   "source": [
    "#### EJERCICIO 1:\n",
    "Conversión de temperaturas.<br>\n",
    "- Pide un número en Celsius.\n",
    "- Conviértelo en Farenheit<br>\n",
    "\n",
    "Muestra ambas temperaturas."
   ]
  },
  {
   "cell_type": "code",
   "execution_count": 3,
   "id": "201edb94-95bb-405e-b780-1e9a4db6a86f",
   "metadata": {},
   "outputs": [
    {
     "name": "stdin",
     "output_type": "stream",
     "text": [
      "Introduce la temperatura en grados Celsius:  25.0\n"
     ]
    },
    {
     "name": "stdout",
     "output_type": "stream",
     "text": [
      "25.0°C equivalen a 77.0°F\n"
     ]
    }
   ],
   "source": [
    "celsius = float(input(\"Introduce la temperatura en grados Celsius: \"))\n",
    "\n",
    "fahrenheit = celsius * 9/5 + 32\n",
    "\n",
    "print(f\"{celsius}°C equivalen a {fahrenheit}°F\")"
   ]
  },
  {
   "cell_type": "markdown",
   "id": "33e11915-6bfd-4aa9-9bb4-0eede492bca2",
   "metadata": {},
   "source": [
    "#### EJERCICIO 2:\n",
    "Crea variables de estos tipos y usa `type()` para mostrarlos.<br>\n",
    "- Número entero.\n",
    "- Número decimal.\n",
    "- Cadena de texto.\n",
    "- Booleano falso"
   ]
  },
  {
   "cell_type": "code",
   "execution_count": 4,
   "id": "6b027430-40b9-4831-871f-28667b5b3a70",
   "metadata": {},
   "outputs": [
    {
     "name": "stdout",
     "output_type": "stream",
     "text": [
      "<class 'int'>\n",
      "<class 'float'>\n",
      "<class 'str'>\n",
      "<class 'bool'>\n"
     ]
    }
   ],
   "source": [
    "num = 1\n",
    "deci = 3.15\n",
    "string = 'Nerea'\n",
    "booleano = False\n",
    "\n",
    "print(type(num))\n",
    "print(type(deci))\n",
    "print(type(string))\n",
    "print(type(booleano))"
   ]
  },
  {
   "cell_type": "markdown",
   "id": "1cd79bac-e574-47f1-87a1-10c2b715ff46",
   "metadata": {},
   "source": [
    "#### EJERCICIO 3:\n",
    "Declara dos números y muestra:\n",
    "- Suma.\n",
    "- Resta.\n",
    "- Multiplicación.\n",
    "- División.\n",
    "- Módulo."
   ]
  },
  {
   "cell_type": "code",
   "execution_count": 6,
   "id": "ce9e79ce-07ee-403b-9b69-b40f802388db",
   "metadata": {},
   "outputs": [
    {
     "name": "stdout",
     "output_type": "stream",
     "text": [
      "Suma: 14\n",
      "Resta: 6\n",
      "Multiplicación: 40\n",
      "División: 2.5\n",
      "Módulo: 2\n"
     ]
    }
   ],
   "source": [
    "num = 10\n",
    "num2 = 4\n",
    "\n",
    "print(f\"Suma: {num+num2}\")\n",
    "print(f\"Resta: {num-num2}\")\n",
    "print(f\"Multiplicación: {num*num2}\")\n",
    "print(f\"División: {num/num2}\")\n",
    "print(f\"Módulo: {num%num2}\")"
   ]
  },
  {
   "cell_type": "markdown",
   "id": "74ad097a-4de6-4582-9021-62c8be053d83",
   "metadata": {},
   "source": [
    "#### EJERCICIO 4:\n",
    "Crea un script que:\n",
    "- Pida un número entero.\n",
    "- Devuelva su cuadrado y su cubo."
   ]
  },
  {
   "cell_type": "code",
   "execution_count": 7,
   "id": "fec9eba4-f8fb-4ae7-9cf6-80fa7c8e0274",
   "metadata": {},
   "outputs": [
    {
     "name": "stdin",
     "output_type": "stream",
     "text": [
      "Introduce un número entero:  3\n"
     ]
    },
    {
     "name": "stdout",
     "output_type": "stream",
     "text": [
      "El cuadrado del número introducido es: 9\n",
      "El cubo del número introducido es: 27\n"
     ]
    }
   ],
   "source": [
    "num = int(input(\"Introduce un número entero: \"))\n",
    "\n",
    "print(f\"El cuadrado del número introducido es: {num**2}\")\n",
    "print(f\"El cubo del número introducido es: {num**3}\")"
   ]
  },
  {
   "cell_type": "code",
   "execution_count": null,
   "id": "e78d691c-3f2c-4237-abad-8b1233dc5d43",
   "metadata": {},
   "outputs": [],
   "source": []
  }
 ],
 "metadata": {
  "kernelspec": {
   "display_name": "Python [conda env:base] *",
   "language": "python",
   "name": "conda-base-py"
  },
  "language_info": {
   "codemirror_mode": {
    "name": "ipython",
    "version": 3
   },
   "file_extension": ".py",
   "mimetype": "text/x-python",
   "name": "python",
   "nbconvert_exporter": "python",
   "pygments_lexer": "ipython3",
   "version": "3.12.7"
  }
 },
 "nbformat": 4,
 "nbformat_minor": 5
}
