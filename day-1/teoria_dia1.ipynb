{
 "cells": [
  {
   "cell_type": "markdown",
   "id": "6a7733c7-d708-4bf4-af49-297ebbe3de14",
   "metadata": {},
   "source": [
    "# VARIABLES - TIPOS DE DATOS - OPERACIONES"
   ]
  },
  {
   "cell_type": "markdown",
   "id": "9e87d64f-e76c-4a99-82d3-8c853d01b696",
   "metadata": {},
   "source": [
    "### VARIABLES:\n",
    "- Valor: representa la información contenida por la variable. Puede ser un número, texto, booleano u otro tipo de dato, dependiendo de la naturaleza de la información que se desee manejar.\n",
    "- Espacio en memoria asignado: la variable ocupa un lugar específico en la memoria del ordenador, reservando una cantidad de espacio que corresponde al tipo de dato almacenado.\n",
    "- Identificador: cada variable tiene un nombre único, conocido como identificador, que sirve para referenciarla en el código."
   ]
  },
  {
   "cell_type": "code",
   "execution_count": 1,
   "id": "a69a4eff-7f23-4ced-a221-9eff2fb02a01",
   "metadata": {
    "scrolled": true
   },
   "outputs": [
    {
     "name": "stdout",
     "output_type": "stream",
     "text": [
      "10 Hello, world!\n"
     ]
    }
   ],
   "source": [
    "# DECLARACIÓN DE VARIABLE:\n",
    "variable = 10\n",
    "variable2 = \"Hello, world!\"\n",
    "\n",
    "print(variable, variable2)"
   ]
  },
  {
   "cell_type": "markdown",
   "id": "1a77fed6-533a-4e0d-8904-72cfb4f802c0",
   "metadata": {},
   "source": [
    "***"
   ]
  },
  {
   "cell_type": "markdown",
   "id": "16b5216d-2924-48cd-8a2b-81cb412b88cb",
   "metadata": {},
   "source": [
    "## TIPOS DE DATOS:\n",
    "### PRIMITIVOS:\n",
    "STRINGS:<br><br>\n",
    "Los `strings` representan una cadena de texto y son un tipo de dato inmutable, es decir, no se puede modificar una vez creados.<br>\n",
    "Para modificarlos se debería crear una nueva cadena para realizar esos cambios."
   ]
  },
  {
   "cell_type": "code",
   "execution_count": 2,
   "id": "88fbc3e3-d109-4d51-ae96-0e8d8615f2b3",
   "metadata": {},
   "outputs": [
    {
     "name": "stdout",
     "output_type": "stream",
     "text": [
      "Hello, world!\n"
     ]
    }
   ],
   "source": [
    "string = \"Hello, world!\"\n",
    "print(string)"
   ]
  },
  {
   "cell_type": "markdown",
   "id": "d516f784-5408-471f-864a-07616114a578",
   "metadata": {},
   "source": [
    "MÉTODOS MÁS COMUNES:"
   ]
  },
  {
   "cell_type": "code",
   "execution_count": 3,
   "id": "15a7372f-391e-44d8-939b-fdb8dfab916e",
   "metadata": {},
   "outputs": [
    {
     "name": "stdout",
     "output_type": "stream",
     "text": [
      "13\n"
     ]
    }
   ],
   "source": [
    "length = len(string) # Devuelve la longitud de la cadena.\n",
    "\n",
    "print(length)"
   ]
  },
  {
   "cell_type": "code",
   "execution_count": 4,
   "id": "bd24a3c7-8e5b-4f0e-957c-003cd45f5f9d",
   "metadata": {},
   "outputs": [
    {
     "name": "stdout",
     "output_type": "stream",
     "text": [
      "HELLO, WORLD!\n",
      "hello, world!\n"
     ]
    }
   ],
   "source": [
    "upper = string.upper() # Convierte la cadena en mayúsculas.\n",
    "lower = string.lower() # Convierte la cadena en minúsculas.\n",
    "\n",
    "print(upper)\n",
    "print(lower)"
   ]
  },
  {
   "cell_type": "code",
   "execution_count": 5,
   "id": "87200716-bb15-4d5b-a2bf-8d4a750dc3f8",
   "metadata": {},
   "outputs": [
    {
     "name": "stdout",
     "output_type": "stream",
     "text": [
      "Hello, world!\n",
      "Hello, World!\n"
     ]
    }
   ],
   "source": [
    "cap = lower.capitalize() # Convierte el primer carácter a mayúsculas.\n",
    "title = string.title() # Convierte el primer carácter de cada palabra a mayúsculas.\n",
    "\n",
    "print(cap)\n",
    "print(title)"
   ]
  },
  {
   "cell_type": "code",
   "execution_count": 6,
   "id": "c12b6289-7407-46ea-b212-298f719488f1",
   "metadata": {},
   "outputs": [
    {
     "name": "stdout",
     "output_type": "stream",
     "text": [
      "2\n"
     ]
    }
   ],
   "source": [
    "string2 = \"Hello, hello, hello world!\"\n",
    "rep = string2.count(\"hello\") # Cuenta cuántas veces aparece una subcadena en la cadena.\n",
    "\n",
    "print(rep)"
   ]
  },
  {
   "cell_type": "code",
   "execution_count": 7,
   "id": "6c05f4e5-ed21-4726-95ed-ceef939e455c",
   "metadata": {},
   "outputs": [
    {
     "name": "stdout",
     "output_type": "stream",
     "text": [
      "7\n",
      "7\n"
     ]
    }
   ],
   "source": [
    "pos1 = string.find(\"world\") # Encuentra la posición de la primera aparición de una subcadena, si no la encuentra devuelve -1.\n",
    "pos2 = string.index(\"world\") # Encuentra la posición de la primera aparición de una subcadena, si no la encuentra genera una excepción ValueError.\n",
    "\n",
    "print(pos1)\n",
    "print(pos2)"
   ]
  },
  {
   "cell_type": "code",
   "execution_count": 8,
   "id": "9f4c70be-5c9e-4d00-8773-eb50eb57b840",
   "metadata": {},
   "outputs": [
    {
     "name": "stdout",
     "output_type": "stream",
     "text": [
      "Hello, Python!\n"
     ]
    }
   ],
   "source": [
    "new_string = string.replace(\"world\", \"Python\") # Reemplaza todas las ocurrencias de la subcadena vieja con la nueva.\n",
    "\n",
    "print(new_string)"
   ]
  },
  {
   "cell_type": "code",
   "execution_count": 9,
   "id": "c6e8f5f9-cb1d-4120-8955-668f9c7122c0",
   "metadata": {},
   "outputs": [
    {
     "name": "stdout",
     "output_type": "stream",
     "text": [
      "Hello, world!   \n",
      "  Hello, world!\n",
      "Hello, world!\n"
     ]
    }
   ],
   "source": [
    "string3 = \"  Hello, world!   \"\n",
    "\n",
    "spc1 = string3.lstrip() # Elimina todos los espacios blancos al principio.\n",
    "spc2 = string3.rstrip() # Elimina todos los espacios blancos al final.\n",
    "spc3 = string3.strip() # Elimina todos los espacios blancos en ambos extremos de la cadena.\n",
    "\n",
    "print(spc1)\n",
    "print(spc2)\n",
    "print(spc3)"
   ]
  },
  {
   "cell_type": "code",
   "execution_count": 10,
   "id": "d411ed3e-5089-4bca-99db-48ea9f3c6da5",
   "metadata": {},
   "outputs": [
    {
     "name": "stdout",
     "output_type": "stream",
     "text": [
      "True\n",
      "True\n"
     ]
    }
   ],
   "source": [
    "start = string.startswith(\"Hello\") # Comprueba si la cadena comienza con el prefijo dado.\n",
    "end = string.endswith(\"world!\") # Comprueba si la cadena termina con el sufijo dado.\n",
    "\n",
    "print(start)\n",
    "print(end)"
   ]
  },
  {
   "cell_type": "code",
   "execution_count": 11,
   "id": "db660d7a-f4ee-43ad-ae97-c79d146eb990",
   "metadata": {},
   "outputs": [
    {
     "name": "stdout",
     "output_type": "stream",
     "text": [
      "['Hello', 'world!']\n"
     ]
    }
   ],
   "source": [
    "parts = string.split(\", \") # Divide la cadena en una lista de subcadenas utilizando un separador específico.\n",
    "\n",
    "print(parts)"
   ]
  },
  {
   "cell_type": "code",
   "execution_count": 12,
   "id": "383def69-c24e-4666-85d3-c98893ec2d9e",
   "metadata": {},
   "outputs": [
    {
     "name": "stdout",
     "output_type": "stream",
     "text": [
      "Hello, world!\n"
     ]
    }
   ],
   "source": [
    "words = ['Hello', 'world!']\n",
    "string_unido = ', '.join(words) # Concatena las cadenas de un iterable utilizando la cadena como separador.\n",
    "\n",
    "print(string_unido)"
   ]
  },
  {
   "cell_type": "markdown",
   "id": "e5d994c6-0c58-4443-a316-3d62457e0569",
   "metadata": {},
   "source": [
    "***\n",
    "INTEGERS:<br><br>\n",
    "El tipo de dato `Int` representa números enteros, es decir, números sin parte fraccionaria o decimal.<br>\n",
    "Los enteros pueden ser positivos, negativos o cero. Al igual que los strings, son un tipo de dato inmutable.<br>\n",
    "Sin embargo, se pueden realizar diversas operaciones matemáticas y crear nuevos números en base a los existenetes."
   ]
  },
  {
   "cell_type": "code",
   "execution_count": 13,
   "id": "62c73593-da2e-4bab-b0ae-7d7df8477b69",
   "metadata": {},
   "outputs": [
    {
     "name": "stdout",
     "output_type": "stream",
     "text": [
      "1\n",
      "-10\n",
      "0\n"
     ]
    }
   ],
   "source": [
    "natural = 1\n",
    "negative = -10\n",
    "zero = 0\n",
    "\n",
    "print(natural)\n",
    "print(negative)\n",
    "print(zero)"
   ]
  },
  {
   "cell_type": "markdown",
   "id": "e1063867-cf8e-4bd9-b036-d293df6dc08f",
   "metadata": {},
   "source": [
    "MÉTODOS MÁS COMUNES:"
   ]
  },
  {
   "cell_type": "code",
   "execution_count": 14,
   "id": "bfb8a607-f6bc-4d91-aca2-e048134753ea",
   "metadata": {},
   "outputs": [
    {
     "name": "stdout",
     "output_type": "stream",
     "text": [
      "6\n"
     ]
    }
   ],
   "source": [
    "num = 42\n",
    "bits = num.bit_length() # Devuelve el número de bits necesarios para representar el entero en binario, excluyendo el signo y los ceros iniciales.\n",
    "\n",
    "print(bits)"
   ]
  },
  {
   "cell_type": "code",
   "execution_count": 15,
   "id": "3e4c12b6-fd84-47c3-ab39-42c812b047e7",
   "metadata": {},
   "outputs": [
    {
     "name": "stdout",
     "output_type": "stream",
     "text": [
      "42\n"
     ]
    }
   ],
   "source": [
    "num2 = -10\n",
    "absolute = abs(num) # Devuelve el valor absoluto del entero.\n",
    "\n",
    "print(absolute)"
   ]
  },
  {
   "cell_type": "code",
   "execution_count": 16,
   "id": "010b1da2-a9d9-4407-baaa-c3c36caa17c2",
   "metadata": {},
   "outputs": [
    {
     "name": "stdout",
     "output_type": "stream",
     "text": [
      "3\n"
     ]
    }
   ],
   "source": [
    "num3 = 3.14159\n",
    "red = round(num3) # Redondea el entero a un número especificado de dígitos decimales (en este caso cero dígitos)\n",
    "\n",
    "print(red)"
   ]
  },
  {
   "cell_type": "code",
   "execution_count": 17,
   "id": "53f6b232-f540-40f4-a427-18835572c7c5",
   "metadata": {},
   "outputs": [
    {
     "name": "stdout",
     "output_type": "stream",
     "text": [
      "3\n"
     ]
    }
   ],
   "source": [
    "conv = int(num3) # Convierte otro tipo de dato a un entero.\n",
    "\n",
    "print(conv)"
   ]
  },
  {
   "cell_type": "code",
   "execution_count": 18,
   "id": "72d4609b-74da-41cb-8aa8-b6742e47dd25",
   "metadata": {},
   "outputs": [
    {
     "name": "stdout",
     "output_type": "stream",
     "text": [
      "0b101010\n",
      "0o52\n",
      "0x2a\n"
     ]
    }
   ],
   "source": [
    "binario = bin(num) #  Convierte el entero a su representación binaria.\n",
    "octal = oct(num) # Convierte el entero a su representación octal.\n",
    "hexa = hex(num) # Convierte el entero a su representación hexadecimal.\n",
    "\n",
    "print(binario)\n",
    "print(octal)\n",
    "print(hexa)"
   ]
  },
  {
   "cell_type": "code",
   "execution_count": 19,
   "id": "3aefe0ef-199c-4440-a248-ccd3407fce76",
   "metadata": {},
   "outputs": [
    {
     "name": "stdout",
     "output_type": "stream",
     "text": [
      "A\n"
     ]
    }
   ],
   "source": [
    "codigo_unicode = 65\n",
    "car = chr(codigo_unicode) # Convierte un entero en su representación de carácter Unicode.\n",
    "\n",
    "print(car)"
   ]
  },
  {
   "cell_type": "code",
   "execution_count": 20,
   "id": "a292e0c8-cce6-489f-ae85-641c3baea002",
   "metadata": {},
   "outputs": [
    {
     "name": "stdout",
     "output_type": "stream",
     "text": [
      "65\n"
     ]
    }
   ],
   "source": [
    "caracter = 'A'\n",
    "unicode_valor = ord(caracter) # Devuelve el valor Unicode del carácter.\n",
    "\n",
    "print(unicode_valor)"
   ]
  },
  {
   "cell_type": "markdown",
   "id": "310c85b5-6701-4d9a-9ce7-fe169cf7fc45",
   "metadata": {},
   "source": [
    "***\n",
    "FLOATS:<br><br>\n",
    "El tipo de dato `float` se utiliza para representar números de punto flotante, es decir, números que pueden tener una parte fraccionaria o decimal.<br>\n",
    "Estos números son utilizados para representar cantidades que pueden tener valores fraccionarios o decimales, en lugar de solo valores enteros.<br>\n",
    "Al igual que los strings y los integers, los floats on también un tipo de dato inmutable."
   ]
  },
  {
   "cell_type": "code",
   "execution_count": 21,
   "id": "ccaf36b4-03dc-41f4-ad1b-b531ecd39557",
   "metadata": {},
   "outputs": [
    {
     "name": "stdout",
     "output_type": "stream",
     "text": [
      "3.14\n",
      "(-2, 5)\n"
     ]
    }
   ],
   "source": [
    "float1 = 3.14\n",
    "float2 = -2,5\n",
    "\n",
    "print(float1)\n",
    "print(float2)"
   ]
  },
  {
   "cell_type": "markdown",
   "id": "1c14613c-b2b5-4031-9c47-d842606f08c5",
   "metadata": {},
   "source": [
    "MÉTODOS MÁS COMUNES:"
   ]
  },
  {
   "cell_type": "code",
   "execution_count": 22,
   "id": "c8d4351b-bade-45fb-9cad-72405a9a7ab4",
   "metadata": {},
   "outputs": [
    {
     "name": "stdout",
     "output_type": "stream",
     "text": [
      "True\n",
      "False\n"
     ]
    }
   ],
   "source": [
    "numm = 5.0\n",
    "numm2 = 5.5\n",
    "is_int = numm.is_integer() # Comprueba si el float tiene una parte igual a cero.\n",
    "is_not_int = numm2.is_integer()\n",
    "\n",
    "print(is_int)\n",
    "print(is_not_int)"
   ]
  },
  {
   "cell_type": "code",
   "execution_count": 23,
   "id": "8fea2d16-c865-4999-8052-1b76451696f7",
   "metadata": {},
   "outputs": [
    {
     "name": "stdout",
     "output_type": "stream",
     "text": [
      "4.5\n",
      "-1.0\n"
     ]
    }
   ],
   "source": [
    "maxi = max(2.0, 4.5, 1.2) # Encuentra el valor máximo entre varios floats.\n",
    "mini = min(-1.0, 0.0, 2.5) # Encuentra el valor mínimo entre varios floats.\n",
    "\n",
    "print(maxi)\n",
    "print(mini)"
   ]
  },
  {
   "cell_type": "code",
   "execution_count": 24,
   "id": "91e819bd-55d5-4ab2-86c8-bba8f96376a3",
   "metadata": {},
   "outputs": [
    {
     "name": "stdout",
     "output_type": "stream",
     "text": [
      "4.0\n"
     ]
    }
   ],
   "source": [
    "import math\n",
    "square = math.sqrt(16.0) # Calcula la raíz cuadrada de un float.\n",
    "\n",
    "print(square)"
   ]
  },
  {
   "cell_type": "markdown",
   "id": "ca83e99e-c6b1-4246-8378-8bb5018bb590",
   "metadata": {},
   "source": [
    "***\n",
    "BOOLEANS:<br><br>\n",
    "El tipo de dato `bool` representa los valores de verdad: True (Verdadero) o False (Falso).<br>\n",
    "Los booleanos son utilizados en expresiones lógicas y en la toma de decisiones en estructuras de control de flujo, como declaraciones if, bucles while y for, entre otros.<br>\n",
    "Este tipo de dato también son inmutables."
   ]
  },
  {
   "cell_type": "code",
   "execution_count": 25,
   "id": "4872aa12-4315-4112-85d5-700d5057e2a6",
   "metadata": {},
   "outputs": [
    {
     "name": "stdout",
     "output_type": "stream",
     "text": [
      "True\n",
      "False\n"
     ]
    }
   ],
   "source": [
    "tall = True\n",
    "little = False\n",
    "\n",
    "print(tall)\n",
    "print (little)"
   ]
  },
  {
   "cell_type": "markdown",
   "id": "ba4cd559-273e-4380-8b2c-094999375c2d",
   "metadata": {},
   "source": [
    "***\n",
    "NONE:<br><br>\n",
    "El tipo de dato `none` es un tipo de dato especial que representa la ausencia de un valor o la falta de definición de un objeto.<br>\n",
    "Es una constante única que utiliza para indicar la ausencia de información o un estado no definido.<br>\n",
    "En definitiva, `None` es un objeto único que representa la nada."
   ]
  },
  {
   "cell_type": "code",
   "execution_count": 26,
   "id": "122a1d54-9c99-480f-b24b-c1b46c1a1304",
   "metadata": {},
   "outputs": [],
   "source": [
    "foo = None;"
   ]
  },
  {
   "cell_type": "markdown",
   "id": "9ad5b3c6-41fc-47d1-b99e-b5d31b790bb7",
   "metadata": {},
   "source": [
    "***\n",
    "### COMPUESTOS:\n",
    "LISTAS:<br><br>\n",
    "Las `listas` son un tipo de dato mutable que sirve como equivalente a los arrays en otros lenguajes de programación.<br>\n",
    "Los elementos almacenados dentro de una lista pueden ser modificados después de su creación.<br>\n",
    "Se accede a estos elementos mediante índices, y se almacenan en ubicaciones contiguas y sucesivas en la memoria.<br>\n",
    "Las listas proporcionan una forma eficiente de organizar y manipular conjutos de datos, permitiendo un acceso rápido y estructurado a través de índices numéricos."
   ]
  },
  {
   "cell_type": "code",
   "execution_count": 28,
   "id": "02fad692-8bc0-4964-8f49-9f4b9109ad4b",
   "metadata": {},
   "outputs": [
    {
     "name": "stdout",
     "output_type": "stream",
     "text": [
      "apple\n",
      "pear\n"
     ]
    }
   ],
   "source": [
    "fruits = [\"apple\", \"orange\", \"pear\"]\n",
    "\n",
    "print(fruits[0])\n",
    "print(fruits[2])"
   ]
  },
  {
   "cell_type": "markdown",
   "id": "05936ef9-798e-4d1f-8a58-05bc574c8dbc",
   "metadata": {},
   "source": [
    "MÉTODOS MÁS COMUNES:"
   ]
  },
  {
   "cell_type": "code",
   "execution_count": 36,
   "id": "85ff7ddb-0bbf-4519-a09e-f317c74abd27",
   "metadata": {},
   "outputs": [
    {
     "name": "stdout",
     "output_type": "stream",
     "text": [
      "[1, 2, 3, 8]\n"
     ]
    }
   ],
   "source": [
    "my_list = [1,2,3]\n",
    "my_list.append(8) # Agrega un elemento al final de la lista\n",
    "\n",
    "print(my_list)"
   ]
  },
  {
   "cell_type": "code",
   "execution_count": 39,
   "id": "154e7b02-11ff-43db-951e-67097fd8318a",
   "metadata": {},
   "outputs": [
    {
     "name": "stdout",
     "output_type": "stream",
     "text": [
      "[1, 2, 3, 4, 5, 6]\n"
     ]
    }
   ],
   "source": [
    "my_list1 = [1,2,3]\n",
    "my_list2 = [4,5,6]\n",
    "my_list1.extend(my_list2) # Agrega los elementos de un iterable (como otra lista) al final de la lista.\n",
    "\n",
    "print(my_list1)"
   ]
  },
  {
   "cell_type": "code",
   "execution_count": 41,
   "id": "bbd163a1-e5eb-417a-a76e-abfc063847ba",
   "metadata": {},
   "outputs": [
    {
     "name": "stdout",
     "output_type": "stream",
     "text": [
      "[1, 2, 3, 4, 4, 8]\n"
     ]
    }
   ],
   "source": [
    "my_list.insert(3,4) # Inserta un elemento en una posición específica de la lista.\n",
    "\n",
    "print(my_list)"
   ]
  },
  {
   "cell_type": "code",
   "execution_count": 43,
   "id": "7629cd8b-d845-44f6-a252-bd3a9cea8a08",
   "metadata": {},
   "outputs": [
    {
     "name": "stdout",
     "output_type": "stream",
     "text": [
      "[1, 3, 2]\n"
     ]
    }
   ],
   "source": [
    "my_list = [1,2,3,2] # Elimina la primera aparición del elemento de la lista.\n",
    "my_list.remove(2)\n",
    "\n",
    "print(my_list)"
   ]
  },
  {
   "cell_type": "code",
   "execution_count": 48,
   "id": "f84e366c-b539-467e-a054-d4aa159db9c8",
   "metadata": {},
   "outputs": [
    {
     "name": "stdout",
     "output_type": "stream",
     "text": [
      "2\n",
      "[1, 3]\n",
      "3\n",
      "[1, 2]\n"
     ]
    }
   ],
   "source": [
    "my_list = [1,2,3]\n",
    "element = my_list.pop(1) # Elimina y devuelve el elemento de la posición dada.\n",
    "\n",
    "my_list2 = [1,2,3]\n",
    "element2 = my_list2.pop() # Si no das un índice, elimina y devuelve el último elemento.\n",
    "\n",
    "print(element)\n",
    "print (my_list)\n",
    "print(element2)\n",
    "print(my_list2)"
   ]
  },
  {
   "cell_type": "code",
   "execution_count": 50,
   "id": "f5c765a3-f7b7-4cc1-8f91-c1b762f277b9",
   "metadata": {},
   "outputs": [
    {
     "name": "stdout",
     "output_type": "stream",
     "text": [
      "1\n"
     ]
    }
   ],
   "source": [
    "my_list = [1,2,3,2]\n",
    "index = my_list.index(2) # Devuelve el índice de la primera aparación del elemento en la lista.\n",
    "\n",
    "print(index)"
   ]
  },
  {
   "cell_type": "code",
   "execution_count": 52,
   "id": "13e261bb-7d28-47c9-8134-726710085ab3",
   "metadata": {},
   "outputs": [
    {
     "name": "stdout",
     "output_type": "stream",
     "text": [
      "3\n"
     ]
    }
   ],
   "source": [
    "my_list = [1,2,3,2,4,2]\n",
    "ocurrences = my_list.count(2) # Cuenta cuántas veces aparece el elemento en la lista.\n",
    "\n",
    "print(ocurrences)"
   ]
  },
  {
   "cell_type": "code",
   "execution_count": 55,
   "id": "f756dc71-cc6d-45f9-926c-9f9bdf137e18",
   "metadata": {},
   "outputs": [
    {
     "name": "stdout",
     "output_type": "stream",
     "text": [
      "[1, 1, 2, 3, 4, 5, 9]\n"
     ]
    }
   ],
   "source": [
    "my_list = [3,1,4,1,5,9,2]\n",
    "my_list.sort() # Ordena la lista in-place, modificando la original.\n",
    "\n",
    "print(my_list)"
   ]
  },
  {
   "cell_type": "code",
   "execution_count": 57,
   "id": "da60007f-7195-4e0c-9885-0ee203f77879",
   "metadata": {},
   "outputs": [
    {
     "name": "stdout",
     "output_type": "stream",
     "text": [
      "[3, 2, 1]\n"
     ]
    }
   ],
   "source": [
    "my_list = [1,2,3]\n",
    "my_list.reverse() # Invierte el orden de los elementos en la lista.\n",
    "\n",
    "print(my_list)"
   ]
  },
  {
   "cell_type": "code",
   "execution_count": 60,
   "id": "0c8addae-54e7-445d-af9a-9e7f07621b58",
   "metadata": {},
   "outputs": [
    {
     "name": "stdout",
     "output_type": "stream",
     "text": [
      "[1, 2, 3]\n",
      "[1, 2, 3]\n"
     ]
    }
   ],
   "source": [
    "original_list = [1,2,3] # Crea una copia superficial de la lista.\n",
    "cop1 = original_list.copy()\n",
    "cop2 = original_list[:]\n",
    "\n",
    "print(cop1)\n",
    "print(cop2)"
   ]
  },
  {
   "cell_type": "markdown",
   "id": "68b4df77-ec23-457d-be52-f8557487f7a1",
   "metadata": {},
   "source": [
    "***\n",
    "DICCIONARIOS:<br><br>\n",
    "Los `diccionarios` son un tipo de dato mutable que se asemeja a un objeto en JavaScript.<br>\n",
    "Los elementos dentro de un diccionario se almacenan en pares de clave y valor.<br>\n",
    "Acceder a un elemento dentro del diccionario se realiza mediante su clave, y esto devuelve el valor asociado.<br>\n",
    "Los diccionarios proporcionan una manera versátil de organizar y estructurar datos, permitiendo la representación de relaciones más complejas mediante la asociación de claves y valores."
   ]
  },
  {
   "cell_type": "code",
   "execution_count": 61,
   "id": "47859341-0a7e-4113-bbe8-8e728d010ba9",
   "metadata": {},
   "outputs": [
    {
     "name": "stdout",
     "output_type": "stream",
     "text": [
      "Adrian\n",
      "4242424242\n",
      "example@com\n",
      "True\n"
     ]
    }
   ],
   "source": [
    "user = {\n",
    "    'name': \"Adrian\",\n",
    "    'phone': 4242424242,\n",
    "    'email': \"example@com\",\n",
    "    'isDad': True\n",
    "}\n",
    "\n",
    "print(user.get('name'))\n",
    "print(user.get('phone'))\n",
    "print(user.get('email'))\n",
    "print(user.get('isDad'))"
   ]
  },
  {
   "cell_type": "markdown",
   "id": "87d5ef77-adc1-4aad-afa0-b3750480197a",
   "metadata": {},
   "source": [
    "MÉTODOS MÁS COMUNES"
   ]
  },
  {
   "cell_type": "code",
   "execution_count": 64,
   "id": "0e55c3d9-1363-40fc-a330-47064cb72dcb",
   "metadata": {},
   "outputs": [
    {
     "name": "stdout",
     "output_type": "stream",
     "text": [
      "dict_keys(['a', 'b', 'c'])\n"
     ]
    }
   ],
   "source": [
    "my_dict = {'a': 1, 'b': 2, 'c': 3}\n",
    "keys_view = my_dict.keys() # Devuelve una vista de todas las claves del diccionario.\n",
    "\n",
    "print(keys_view)"
   ]
  },
  {
   "cell_type": "code",
   "execution_count": 65,
   "id": "96c58bfe-b7bb-4bdb-b61f-7030a9152266",
   "metadata": {},
   "outputs": [
    {
     "name": "stdout",
     "output_type": "stream",
     "text": [
      "dict_values([1, 2, 3])\n"
     ]
    }
   ],
   "source": [
    "my_dict = {'a':1, 'b':2, 'c':3}\n",
    "values_view = my_dict.values() # Devuelve una vista de todos los valores del diccionario.\n",
    "\n",
    "print(values_view)"
   ]
  },
  {
   "cell_type": "code",
   "execution_count": 66,
   "id": "286cb16a-d05e-4ed3-9445-c53b93a776c3",
   "metadata": {},
   "outputs": [
    {
     "name": "stdout",
     "output_type": "stream",
     "text": [
      "dict_items([('a', 1), ('b', 2), ('c', 3)])\n"
     ]
    }
   ],
   "source": [
    "my_dict = {'a':1, 'b':2, 'c':3}\n",
    "items_view = my_dict.items() # Devuelve una vista de tuplas que contienen pares clave-valor en el diccionario.\n",
    "\n",
    "print(items_view)"
   ]
  },
  {
   "cell_type": "code",
   "execution_count": 69,
   "id": "466e6c9b-9650-4705-86a2-96ed739f1bad",
   "metadata": {},
   "outputs": [
    {
     "name": "stdout",
     "output_type": "stream",
     "text": [
      "2\n",
      "4\n"
     ]
    }
   ],
   "source": [
    "my_dict = {'a':1, 'b':2, 'c':3}\n",
    "value = my_dict.get('b', 0)\n",
    "value2 = my_dict.get('d', 4) # Devuelve el valor asociado a la clave, o un valor predeterminado si la clave no está presente.\n",
    "\n",
    "print(value)\n",
    "print(value2)"
   ]
  },
  {
   "cell_type": "code",
   "execution_count": 72,
   "id": "b199133c-41bf-4860-abd6-342f169d6345",
   "metadata": {},
   "outputs": [
    {
     "name": "stdout",
     "output_type": "stream",
     "text": [
      "2\n",
      "60\n",
      "{'a': 1, 'c': 3}\n"
     ]
    }
   ],
   "source": [
    "my_dict = {'a': 1, 'b': 2, 'c': 3}\n",
    "value = my_dict.pop('b') # Elimina y devuelve el valor asociado. Si la clave no está presente, devuelve un valor predeterminado o genera un error si este valor no está presente.\n",
    "value2 = my_dict.pop('d', 60)\n",
    "\n",
    "print(value)\n",
    "print(value2)\n",
    "print(my_dict)"
   ]
  },
  {
   "cell_type": "code",
   "execution_count": 73,
   "id": "5356897a-1b0a-40d9-afbe-c18fddc8cebd",
   "metadata": {},
   "outputs": [
    {
     "name": "stdout",
     "output_type": "stream",
     "text": [
      "('c', 3)\n",
      "{'a': 1, 'b': 2}\n"
     ]
    }
   ],
   "source": [
    "my_dict = {'a': 1, 'b': 2, 'c': 3}\n",
    "key_value_pair = my_dict.popitem() # Elimina y devuelve el último par clave-valor insertado en el diccionario\n",
    "\n",
    "print (key_value_pair)\n",
    "print(my_dict)"
   ]
  },
  {
   "cell_type": "code",
   "execution_count": 74,
   "id": "fdece235-43c4-4b00-a654-c4c5ba7f9c49",
   "metadata": {},
   "outputs": [
    {
     "name": "stdout",
     "output_type": "stream",
     "text": [
      "{'a': 1, 'b': 3, 'c': 4}\n"
     ]
    }
   ],
   "source": [
    "my_dict = {'a': 1, 'b': 2}\n",
    "another_dict = {'b': 3, 'c': 4}\n",
    "my_dict.update(another_dict) # Actualiza el primer diccionario con elementos de otro diccionario dado o de un iterable de pares clave-valor.\n",
    "\n",
    "print(my_dict)"
   ]
  },
  {
   "cell_type": "code",
   "execution_count": 75,
   "id": "c0d92291-55e6-4761-8042-afa9d0d84905",
   "metadata": {},
   "outputs": [
    {
     "name": "stdout",
     "output_type": "stream",
     "text": [
      "{}\n"
     ]
    }
   ],
   "source": [
    "my_dict = {'a': 1, 'b': 2, 'c': 3}\n",
    "my_dict.clear() # Elimina todos los elementos del diccionario.\n",
    "\n",
    "print(my_dict)"
   ]
  },
  {
   "cell_type": "code",
   "execution_count": 76,
   "id": "65cbe0a3-439c-4333-bb7a-81c72564caee",
   "metadata": {},
   "outputs": [
    {
     "name": "stdout",
     "output_type": "stream",
     "text": [
      "True\n",
      "False\n"
     ]
    }
   ],
   "source": [
    "my_dict = {'a': 1, 'b': 2, 'c': 3}\n",
    "is_present = 'b' in my_dict\n",
    "is_present2 = 'd' in my_dict\n",
    "\n",
    "print(is_present)\n",
    "print(is_present2)"
   ]
  },
  {
   "cell_type": "code",
   "execution_count": 77,
   "id": "d611e1b7-cb86-4bab-9a09-dadcabbe8d14",
   "metadata": {},
   "outputs": [
    {
     "name": "stdout",
     "output_type": "stream",
     "text": [
      "3\n"
     ]
    }
   ],
   "source": [
    "my_dict = {'a': 1, 'b': 2, 'c': 3}\n",
    "num_elem = len(my_dict) # Devuelve la cantidad de elementos (pares clave-valor) en el diccionario.\n",
    "\n",
    "print(num_elem)"
   ]
  },
  {
   "cell_type": "markdown",
   "id": "60492066-8e58-42c4-b287-9505c6327081",
   "metadata": {},
   "source": [
    "***\n",
    "### SABER EL TIPO DE DATO:\n",
    "Se puede emplear la palabra reservada `type` para verificar el tipo de dato de una variable."
   ]
  },
  {
   "cell_type": "code",
   "execution_count": 81,
   "id": "e42b63d3-35e0-47ee-8a02-37f637e5e937",
   "metadata": {},
   "outputs": [
    {
     "name": "stdout",
     "output_type": "stream",
     "text": [
      "<class 'str'>\n",
      "<class 'int'>\n",
      "<class 'float'>\n",
      "<class 'bool'>\n",
      "<class 'NoneType'>\n",
      "<class 'list'>\n",
      "<class 'dict'>\n",
      "<class 'function'>\n"
     ]
    }
   ],
   "source": [
    "string = 'Hola'\n",
    "num = 1\n",
    "flt = 3.45\n",
    "boolean = True\n",
    "nonee = None\n",
    "lista = [1,2,3]\n",
    "diccionario = {'a':1, 'b':2, 'c':3}\n",
    "function = lambda:None\n",
    "\n",
    "print(type(string))\n",
    "print(type(num))\n",
    "print(type(flt))\n",
    "print(type(boolean))\n",
    "print(type(nonee))\n",
    "print(type(lista))\n",
    "print(type(diccionario))\n",
    "print(type(function))"
   ]
  },
  {
   "cell_type": "markdown",
   "id": "2ab034b5-da53-4d15-8b38-239f61c2442d",
   "metadata": {},
   "source": [
    "***\n",
    "### OPERADORES BÁSICOS:\n",
    "Existen cuatro tipos de operadores básicos:\n",
    "- Aritméticos\n",
    "- Asignación\n",
    "- Relacionales\n",
    "- Lógicos"
   ]
  },
  {
   "cell_type": "markdown",
   "id": "e0d587b6-39a3-4b18-9663-478617ab547e",
   "metadata": {},
   "source": [
    "***\n",
    "ARITMÉTICOS:<br><br>\n",
    "Son los que utilizamos para realizar unas operaciones aritméticas y matemáticas."
   ]
  },
  {
   "cell_type": "code",
   "execution_count": 82,
   "id": "0ee22741-44d9-49a6-b3ac-0fd2a019b763",
   "metadata": {},
   "outputs": [
    {
     "name": "stdout",
     "output_type": "stream",
     "text": [
      "7\n",
      "3\n",
      "10\n",
      "2.5\n",
      "25\n",
      "2\n",
      "1\n"
     ]
    }
   ],
   "source": [
    "# Suma\n",
    "print(5 + 2)\n",
    "\n",
    "# Resta\n",
    "print(5 - 2)\n",
    "\n",
    "# Multiplicación\n",
    "print(5 * 2)\n",
    "\n",
    "# División\n",
    "print(5 / 2)\n",
    "\n",
    "# Exponente\n",
    "print(5 ** 2)\n",
    "\n",
    "# Dvisión entera (igual que la división normal, salvo que el resultado se redondea a la parte inferior)\n",
    "print(5 // 2)\n",
    "\n",
    "# Módulo (devuelve el resto de la división)\n",
    "print(5 % 2)"
   ]
  },
  {
   "cell_type": "markdown",
   "id": "eaadf631-99b8-43ee-82c6-8131dd1a25ed",
   "metadata": {},
   "source": [
    "***\n",
    "ASGINACIÓN:<br><br>\n",
    "Son los que utilizamos para darle valor a una variable.<br>\n",
    "Realiza la operación aritmética añadiendo o quitando el valor a la derecha del igual a la variable."
   ]
  },
  {
   "cell_type": "code",
   "execution_count": 84,
   "id": "f105ccb3-d908-44b1-8333-f0146ddfdf14",
   "metadata": {},
   "outputs": [
    {
     "name": "stdout",
     "output_type": "stream",
     "text": [
      "7\n",
      "3\n",
      "10\n",
      "2.5\n",
      "25\n",
      "2\n",
      "1\n"
     ]
    }
   ],
   "source": [
    "# Suma\n",
    "x=5;\n",
    "x+=2\n",
    "print(x)\n",
    "\n",
    "# Resta\n",
    "x=5;\n",
    "x-=2\n",
    "print(x)\n",
    "\n",
    "# Multiplicación\n",
    "x=5;\n",
    "x*=2\n",
    "print(x)\n",
    "\n",
    "# División\n",
    "x=5;\n",
    "x/=2\n",
    "print(x)\n",
    "\n",
    "# Exponente\n",
    "x=5;\n",
    "x**=2\n",
    "print(x)\n",
    "\n",
    "# Dvisión entera\n",
    "x=5;\n",
    "x//=2\n",
    "print(x)\n",
    "\n",
    "# Módulo\n",
    "x=5;\n",
    "x%=2\n",
    "print(x)"
   ]
  },
  {
   "cell_type": "markdown",
   "id": "16b08f8a-073d-4108-a50f-21be09da9582",
   "metadata": {},
   "source": [
    "***\n",
    "RELACIONALES:<br><br>\n",
    "Son los que utilizamos para comparar dos valores.<br>\n",
    "Devuelve un valor booleano dependiendo de la condición."
   ]
  },
  {
   "cell_type": "code",
   "execution_count": 85,
   "id": "9ec36638-d971-4d17-961d-4f49433a1533",
   "metadata": {},
   "outputs": [
    {
     "name": "stdout",
     "output_type": "stream",
     "text": [
      "False\n",
      "True\n",
      "False\n",
      "True\n",
      "False\n",
      "True\n"
     ]
    }
   ],
   "source": [
    "a = 3\n",
    "b = 5\n",
    "\n",
    "print(a == b) # Compara los valores para ver si son iguales. Este operador también se puede utilizar con cadenas.\n",
    "print(a != b) # Compara los valores para ver si son distintos. Este operador también se puede utilizar con cadenas.\n",
    "print(a > b) # Compara el primer valor para ver si es mayor que el segundo\n",
    "print(a < b) # Compara el primer valor para ver si es menor que el segundo\n",
    "print(a >= b) # Compara el primer valor para ver si es mayor o igual que el segundo.\n",
    "print(a <= b) # Compara el primer valor para ver si es menor o igual que el segundo."
   ]
  },
  {
   "cell_type": "markdown",
   "id": "92a932a2-d6d4-4fc0-9dde-e231615ebeb0",
   "metadata": {},
   "source": [
    "***\n",
    "LÓGICOS:<br><br>\n",
    "Son los que utilizamos para trabajar con valores booleanos."
   ]
  },
  {
   "cell_type": "code",
   "execution_count": 87,
   "id": "91cacdc1-e14b-4dd0-8592-9557b028b6fc",
   "metadata": {},
   "outputs": [
    {
     "name": "stdout",
     "output_type": "stream",
     "text": [
      "True\n",
      "True\n",
      "False\n"
     ]
    }
   ],
   "source": [
    "print(True and True) # Comprueba que el valor izquierdo y derecho se cumple.\n",
    "print(True or False) # Comprueba que el valor izquierdo o el derecho se cumple.\n",
    "print(not True) # Devuelve el valor contrario al valor booleano."
   ]
  },
  {
   "cell_type": "markdown",
   "id": "3715f68e-1138-4c68-9be7-d72c1e9bca5c",
   "metadata": {},
   "source": [
    "***\n",
    "PRECEDENCIA DE OPERADORES:<br><br>\n",
    "Los operadores de Python se ejecutan en un orden muy concreto, y algunos tienes prioridad sobre otros.\n",
    "1. Exponente\n",
    "2. Multiplicación, división, módulo, división entera.\n",
    "3. Suma, resta.\n",
    "4. Comparación.\n",
    "5. Igualdad.\n",
    "6. Asignación.\n",
    "7. Lógico."
   ]
  },
  {
   "cell_type": "code",
   "execution_count": null,
   "id": "0cd0b1f3-6861-431b-a077-d515d267ec6b",
   "metadata": {},
   "outputs": [],
   "source": []
  }
 ],
 "metadata": {
  "kernelspec": {
   "display_name": "Python [conda env:base] *",
   "language": "python",
   "name": "conda-base-py"
  },
  "language_info": {
   "codemirror_mode": {
    "name": "ipython",
    "version": 3
   },
   "file_extension": ".py",
   "mimetype": "text/x-python",
   "name": "python",
   "nbconvert_exporter": "python",
   "pygments_lexer": "ipython3",
   "version": "3.12.7"
  }
 },
 "nbformat": 4,
 "nbformat_minor": 5
}
