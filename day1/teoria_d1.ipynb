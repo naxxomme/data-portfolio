{
 "cells": [
  {
   "cell_type": "markdown",
   "id": "d0f11cf7-9b32-4a4f-a433-886e7f017485",
   "metadata": {},
   "source": [
    "# TIPOS DE DATOS BÁSICOS:"
   ]
  },
  {
   "cell_type": "markdown",
   "id": "0ded21e6-a110-4806-95cf-ee96cd82deef",
   "metadata": {},
   "source": [
    "En Python, todo es un objeto, incluidos los valores más simples. Los tipos de datos básicos incluyen:<br>\n",
    "\n",
    "- int (enteros): números sin decimales.<br>\n",
    "Ej: 4, -12, 0\n",
    "\n",
    "- float (decimales): números con parte decimal.<br>\n",
    "Ej: 3.14, -0.5, 2.0<br>\n",
    "\n",
    "- str (cadenas): texto, encerrado entre comillas simples o dobles.<br>\n",
    "Ej: \"hola\", 'mundo'<br>\n",
    "\n",
    "- bool (booleanos): valores lógicos, True o False.<br>\n",
    "Se usan en comparaciones y estructuras de control.<br>\n",
    "\n",
    "Puedes comprobar el tipo de cualquier valor con type()"
   ]
  },
  {
   "cell_type": "code",
   "execution_count": 1,
   "id": "8b30f354-0335-4061-9a89-909b5cd3f044",
   "metadata": {},
   "outputs": [
    {
     "data": {
      "text/plain": [
       "int"
      ]
     },
     "execution_count": 1,
     "metadata": {},
     "output_type": "execute_result"
    }
   ],
   "source": [
    "type(42)"
   ]
  },
  {
   "cell_type": "code",
   "execution_count": 2,
   "id": "6c2e8500-c4e8-45b2-a2a8-09a6c6fbc35d",
   "metadata": {},
   "outputs": [
    {
     "data": {
      "text/plain": [
       "42"
      ]
     },
     "execution_count": 2,
     "metadata": {},
     "output_type": "execute_result"
    }
   ],
   "source": [
    "# Puedes usar int() para convertir otro tipo de datos en int\n",
    "int(\"42\")"
   ]
  },
  {
   "cell_type": "code",
   "execution_count": 3,
   "id": "2f1e65e5-dd66-45c9-a1df-14880fbf7898",
   "metadata": {},
   "outputs": [
    {
     "data": {
      "text/plain": [
       "float"
      ]
     },
     "execution_count": 3,
     "metadata": {},
     "output_type": "execute_result"
    }
   ],
   "source": [
    "type(1.5)"
   ]
  },
  {
   "cell_type": "code",
   "execution_count": 4,
   "id": "080eb01d-bc59-4c12-8d59-2fb9d20abb66",
   "metadata": {},
   "outputs": [
    {
     "data": {
      "text/plain": [
       "42.7"
      ]
     },
     "execution_count": 4,
     "metadata": {},
     "output_type": "execute_result"
    }
   ],
   "source": [
    "float(\"42.7\")"
   ]
  },
  {
   "cell_type": "code",
   "execution_count": 5,
   "id": "6021acec-e0bd-4702-a337-a831e41be2f7",
   "metadata": {},
   "outputs": [
    {
     "data": {
      "text/plain": [
       "str"
      ]
     },
     "execution_count": 5,
     "metadata": {},
     "output_type": "execute_result"
    }
   ],
   "source": [
    "type(\"Hello, World!\")"
   ]
  },
  {
   "cell_type": "code",
   "execution_count": 6,
   "id": "cf4d2ce0-635b-49ee-8b59-5def94858f45",
   "metadata": {},
   "outputs": [
    {
     "data": {
      "text/plain": [
       "'Hello, Adrian!'"
      ]
     },
     "execution_count": 6,
     "metadata": {},
     "output_type": "execute_result"
    }
   ],
   "source": [
    "name = \"Adrian\"\n",
    "\n",
    "f\"Hello, {name}!\""
   ]
  },
  {
   "cell_type": "markdown",
   "id": "04ae1181-9bf2-4e0d-8184-6d800a2c14ab",
   "metadata": {},
   "source": [
    "#### MÉTODOS CON STRING:\n",
    "- `.capitalize()` -> Converts the first character to uppercase and the rest to lowercase\n",
    "- `.casefold()` -> Converts the string into lowercase\n",
    "- `.center(width[, fillchar])` -> Centers the string between width using fillchar\n",
    "- `.encode(encoding, errors)` -> Encodes the string using the specified encoding\n",
    "- `.expandtabs(tabsize)` -> Replaces tab characters with spaces according to tabsize\n",
    "- `.format(*args, **kwargs)` -> Interpolates and formats the specified values\n",
    "- `.format_map(mapping)` ->\tInterpolates and formats the specified values using a dictionary\n",
    "- `.join(iterable)` ->\tJoins the items in an iterable with the string as a separator\n",
    "- `.ljust(width[, fillchar])` -> Returns a left-justified version of the string\n",
    "- `.rjust(width[, fillchar])` -> Returns a right-justified version of the string\n",
    "- `.lower()` ->\tConverts the string into lowercase\n",
    "- `.strip([chars])` ->\tTrims the string by removing chars from the beginning and end\n",
    "- `.lstrip([chars])` ->\tTrims the string by removing chars from the beginning\n",
    "- `.rstrip([chars])` ->\tTrims the string by removing chars from the end\n",
    "- `.removeprefix(prefix, /)` ->\tRemoves prefix from the beginning of the string\n",
    "- `.removesuffix(suffix, /)` ->\tRemoves suffix from the end of the string\n",
    "- `.replace(old, new [, count])` ->\tReturns a string where the old substring is replaced with new\n",
    "- `.swapcase()` -> Converts lowercase letters to uppercase letters and vice versa\n",
    "- `.split()` -> Split a string into a list of individual strings using a given character as a separator.\n",
    "- `.title()`-> Converts the first character of each word to uppercase and the rest to lowercase\n",
    "- `.upper()`-> Converts a string into uppercase\n",
    "- `.zfill(width)` -> Fills the string with a specified number of zeroes at the beginning"
   ]
  },
  {
   "cell_type": "code",
   "execution_count": 7,
   "id": "e49f75fb-dd17-4496-948d-69c961a8fc62",
   "metadata": {},
   "outputs": [
    {
     "data": {
      "text/plain": [
       "bool"
      ]
     },
     "execution_count": 7,
     "metadata": {},
     "output_type": "execute_result"
    }
   ],
   "source": [
    "type(True)"
   ]
  },
  {
   "cell_type": "markdown",
   "id": "11b4bdcf-f62b-4934-bba0-b5b033e3580d",
   "metadata": {},
   "source": [
    "# PRINT FUNCTION:"
   ]
  },
  {
   "cell_type": "code",
   "execution_count": 8,
   "id": "202f8293-ebf3-4594-b0eb-6300d5347eae",
   "metadata": {},
   "outputs": [
    {
     "name": "stdout",
     "output_type": "stream",
     "text": [
      "Please wait while the program is loading...\n"
     ]
    }
   ],
   "source": [
    "print(\"Please wait while the program is loading...\")"
   ]
  },
  {
   "cell_type": "code",
   "execution_count": 9,
   "id": "53dcc3ea-b808-4117-8ecf-1bc76b157663",
   "metadata": {},
   "outputs": [
    {
     "name": "stdout",
     "output_type": "stream",
     "text": [
      "Please wait while the program is loading...\n"
     ]
    }
   ],
   "source": [
    "message= \"Please wait while the program is loading...\"\n",
    "print(message)"
   ]
  },
  {
   "cell_type": "code",
   "execution_count": 10,
   "id": "2d812b0a-e375-46ab-8b7a-5c9e2f6d3873",
   "metadata": {},
   "outputs": [
    {
     "data": {
      "text/plain": [
       "'My age is 42'"
      ]
     },
     "execution_count": 10,
     "metadata": {},
     "output_type": "execute_result"
    }
   ],
   "source": [
    "\"My age is \" + str(42)"
   ]
  },
  {
   "cell_type": "markdown",
   "id": "c50571c5-5072-42f5-96af-1592dcbe8e4e",
   "metadata": {},
   "source": [
    "# OPERADORES BÁSICOS:\n",
    "- Suma: `+`\n",
    "- Resta: `-`\n",
    "- Multiplicación: `*`\n",
    "- División: `/`\n",
    "- División entera: `//`\n",
    "- Módulo (resto): `%`\n",
    "- Exponente: `**`\n",
    "\n",
    "`/` siempre devuelve un `float`, incluso si la división es exacta.<br>\n",
    "`//` descarta los decimales.<br>\n",
    "`%` es muy útil para si un número es par o múltiplo de otro."
   ]
  },
  {
   "cell_type": "code",
   "execution_count": null,
   "id": "d4c7caf2-c3db-4a55-989a-08a54dea9ee0",
   "metadata": {},
   "outputs": [],
   "source": []
  }
 ],
 "metadata": {
  "kernelspec": {
   "display_name": "Python [conda env:base] *",
   "language": "python",
   "name": "conda-base-py"
  },
  "language_info": {
   "codemirror_mode": {
    "name": "ipython",
    "version": 3
   },
   "file_extension": ".py",
   "mimetype": "text/x-python",
   "name": "python",
   "nbconvert_exporter": "python",
   "pygments_lexer": "ipython3",
   "version": "3.12.7"
  }
 },
 "nbformat": 4,
 "nbformat_minor": 5
}
