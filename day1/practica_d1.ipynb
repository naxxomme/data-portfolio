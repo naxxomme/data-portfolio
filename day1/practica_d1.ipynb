{
 "cells": [
  {
   "cell_type": "markdown",
   "id": "64c798f1-5aa6-4b0b-a469-23b5e3819926",
   "metadata": {},
   "source": [
    "# EJERCICIOS DÍA 1:"
   ]
  },
  {
   "cell_type": "markdown",
   "id": "ab671183-0eb2-4f14-ba5f-da7d63f58f85",
   "metadata": {},
   "source": [
    "1. Imprime tu nombre y tu edad."
   ]
  },
  {
   "cell_type": "code",
   "execution_count": 8,
   "id": "ab6e0c0e-268d-4e64-97c0-90cea3900e19",
   "metadata": {},
   "outputs": [
    {
     "data": {
      "text/plain": [
       "'Mi nombre es Adrian y tengo 25 años.'"
      ]
     },
     "execution_count": 8,
     "metadata": {},
     "output_type": "execute_result"
    }
   ],
   "source": [
    "name = \"Adrian\"\n",
    "age = 25\n",
    "\n",
    "f'Mi nombre es {name} y tengo {age} años.'"
   ]
  },
  {
   "cell_type": "markdown",
   "id": "11e3f110-046c-4761-b525-0dbf0d99e67f",
   "metadata": {},
   "source": [
    "2. Calcula tu edad en días."
   ]
  },
  {
   "cell_type": "code",
   "execution_count": 20,
   "id": "cd73db74-7dd1-4bc6-abbc-6f5a9e952fc1",
   "metadata": {},
   "outputs": [
    {
     "data": {
      "text/plain": [
       "'Mi edad en días aproximadamente es 9125 días.'"
      ]
     },
     "execution_count": 20,
     "metadata": {},
     "output_type": "execute_result"
    }
   ],
   "source": [
    "age = 25\n",
    "\n",
    "f'Mi edad en días aproximadamente es {age*365} días.'"
   ]
  },
  {
   "cell_type": "markdown",
   "id": "36373083-767b-4d9e-afdd-ad5d256cc943",
   "metadata": {},
   "source": [
    "3. Declara tres variables (nombre, edad, altura) y muéstralas en una frase."
   ]
  },
  {
   "cell_type": "code",
   "execution_count": 13,
   "id": "9e07914f-09ac-4b94-8a7f-cc38b576646c",
   "metadata": {},
   "outputs": [
    {
     "data": {
      "text/plain": [
       "'Mi nombre es Adrian, tengo 25 años y mido 1.72m.'"
      ]
     },
     "execution_count": 13,
     "metadata": {},
     "output_type": "execute_result"
    }
   ],
   "source": [
    "name = \"Adrian\"\n",
    "age = 25\n",
    "height = 1.72\n",
    "\n",
    "f'Mi nombre es {name}, tengo {age} años y mido {height}m.'"
   ]
  },
  {
   "cell_type": "markdown",
   "id": "52591293-3754-492f-962f-8496316896e2",
   "metadata": {},
   "source": [
    "4. Muestra cómo se comportan los operadores básicos."
   ]
  },
  {
   "cell_type": "code",
   "execution_count": 19,
   "id": "b6ecb06f-08d1-4f17-9242-813b7e79d8c6",
   "metadata": {},
   "outputs": [
    {
     "name": "stdout",
     "output_type": "stream",
     "text": [
      "Suma: 15 + 5 = 20\n",
      "Resta: 15 - 5 = 10\n",
      "Multiplicación: 15 * 5 = 75\n",
      "División: 15 / 5 = 3.0\n",
      "División entera: 15 // 5 = 3\n",
      "Módulo: 15 % 5 = 0\n",
      "Exponente: 15 ** 5 = 759375\n"
     ]
    }
   ],
   "source": [
    "num1 = 15\n",
    "num2 = 5\n",
    "\n",
    "print(f'Suma: {num1} + {num2} = {num1+num2}')\n",
    "print(f'Resta: {num1} - {num2} = {num1-num2}')\n",
    "print(f'Multiplicación: {num1} * {num2} = {num1*num2}')\n",
    "print(f'División: {num1} / {num2} = {num1/num2}')\n",
    "print(f'División entera: {num1} // {num2} = {num1//num2}')\n",
    "print(f'Módulo: {num1} % {num2} = {num1%num2}')\n",
    "print(f'Exponente: {num1} ** {num2} = {num1**num2}')"
   ]
  },
  {
   "cell_type": "code",
   "execution_count": null,
   "id": "a677025e-5e1c-4f4b-8f5d-79e62db7e57b",
   "metadata": {},
   "outputs": [],
   "source": []
  }
 ],
 "metadata": {
  "kernelspec": {
   "display_name": "Python [conda env:base] *",
   "language": "python",
   "name": "conda-base-py"
  },
  "language_info": {
   "codemirror_mode": {
    "name": "ipython",
    "version": 3
   },
   "file_extension": ".py",
   "mimetype": "text/x-python",
   "name": "python",
   "nbconvert_exporter": "python",
   "pygments_lexer": "ipython3",
   "version": "3.12.7"
  }
 },
 "nbformat": 4,
 "nbformat_minor": 5
}
